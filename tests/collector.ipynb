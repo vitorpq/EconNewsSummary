{
 "cells": [
  {
   "cell_type": "code",
   "execution_count": 1,
   "metadata": {},
   "outputs": [
    {
     "name": "stdout",
     "output_type": "stream",
     "text": [
      "Configurações carregadas e nest_asyncio aplicado.\n"
     ]
    }
   ],
   "source": [
    "# Importações necessárias\n",
    "import asyncio\n",
    "from telethon.sync import TelegramClient # Embora o nome seja 'sync', ele opera no loop asyncio\n",
    "from telethon.errors.rpcerrorlist import SessionPasswordNeededError, UserDeactivatedBanError, AuthKeyUnregisteredError\n",
    "from telethon.tl.functions.messages import GetHistoryRequest\n",
    "from telethon.tl.types import PeerChannel\n",
    "from datetime import datetime, timedelta\n",
    "import os, json\n",
    "\n",
    "# Para permitir que o loop de eventos do asyncio funcione dentro do Jupyter Notebook\n",
    "import nest_asyncio\n",
    "nest_asyncio.apply()\n",
    "\n",
    "# --- Configurações Essenciais ---\n",
    "API_ID = 6942037  # Coloque seu API ID aqui (número inteiro)\n",
    "API_HASH = 'c773a928384aa55437efad4823467f32'  # Coloque seu API Hash aqui (string)\n",
    "\n",
    "# Nome da sua sessão existente (o nome do arquivo .session sem a extensão)\n",
    "# Ex: se seu arquivo é 'minha_conta.session', coloque 'minha_conta'\n",
    "SESSION_NAME = '+5571987946284' # Ou o nome que você usou antes\n",
    "\n",
    "# Identificador do canal PÚBLICO para teste (ex: '@TelegramBR')\n",
    "CHANNEL_IDENTIFIER = '@activtradespt'\n",
    "\n",
    "# Seu número de telefone (importante para a primeira autenticação ou se a sessão expirar)\n",
    "PHONE_NUMBER = '+5571987946284' # Ex: +55719XXXXXXXX\n",
    "# --- Fim das Configurações ---\n",
    "\n",
    "print(\"Configurações carregadas e nest_asyncio aplicado.\")"
   ]
  },
  {
   "cell_type": "code",
   "execution_count": 2,
   "metadata": {},
   "outputs": [
    {
     "name": "stdout",
     "output_type": "stream",
     "text": [
      "[\"Clique aqui e não perca: https://www.youtube.com/live/DgzB0PdDyLk?si=hfRTSmmrRZ1Y-DmA\", \"As Maiores - S&P500/Nasdaq\", \"As Maiores - Ibovespa\", \"Snapshot de Fechamento\", \"Leia a análise completa: https://br.tradingview.com/chart/GOLD/I4fVv2eL/\", \"**🔴 Em 15 Minutos\\n\\nAcompanhe Ao Vivo o Fechamento de Mercado com Valber Bastos da Macro Trader (17:30)**\\n\\nhttps://youtube.com/live/VsoNKc4n1O4?feature=share\", \"**Os índices de ações americanas seguem ampliando alta na sessão e renovam máxima do dia**\\n  \\n  __Via Terminal Macro Trader / ActivTrades\\n\\n...\\nDisclaimer ActivTrades Brasil: Os derivativos financeiros são instrumentos complexos e apresentam um alto risco de perder dinheiro rapidamente devido à alavancagem. 84% das contas de investidores de retalhos perdem dinheiro quando negociam derivativos__\", \"**FX no Radar: Emergente**\\n    \\n**Mesmo com o dólar forte, o yuan offshore (CNH) mostrou resistência após dados da China mostrarem inflação alinhada às expectativas**\\n  \\n▶️ O índice de preços ao consumidor (CPI) registrou -0,1% em abril na variação anual, enquanto o PPI foi ligeiramente melhor que o esperado (-2,7% vs. -2,8%).\\n \\n▶️ O rupee indiano (INR) também teve bom desempenho. Já outras moedas emergentes, especialmente da Europa Central e Oriental (CEE), ficaram mais fracas.\\n \\n▶️ No México, enquete da Reuters indica que a maioria dos analistas espera um corte de 50 pontos-base nos juros na quinta-feira.\\n  \\n  __Via Terminal Macro Trader / ActivTrades\\n\\n...\\nDisclaimer ActivTrades Brasil: Os derivativos financeiros são instrumentos complexos e apresentam um alto risco de perder dinheiro rapidamente devido à alavancagem. 84% das contas de investidores de retalhos perdem dinheiro quando negociam derivativos__\", \"**🔴  Semicondutores no Radar**\\n    \\n**Trump Considera Venda Massiva de Chips de IA aos Emirados em Negócio Polêmico, Segundo Fontes do New York Times**\\n  \\n▶️ A administração Trump está considerando um acordo que pode enviar centenas de milhares de chips de inteligência artificial (IA) projetados nos EUA para a G42, uma empresa de IA dos Emirados Árabes Unidos (EAU) que já foi investigada por laços com a China.\\n \\n▶️  As negociações refletem uma mudança significativa na política tecnológica dos EUA antes da visita de Trump ao Golfo esta semana. O caso gera tensões dentro do governo entre líderes pró-negócios e oficiais de segurança nacional, que temem o uso indevido da tecnologia pelos Emirados.\\n \\n▶️ A abordagem marca uma ruptura com a administração Biden, que rejeitou vendas semelhantes por receio de beneficiar governos autocráticos alinhados à China.\\n  \\n  __Via Terminal Macro Trader / ActivTrades\\n\\n...\\nDisclaimer ActivTrades Brasil: Os derivativos financeiros são instrumentos complexos e apresentam um alto risco de perder dinheiro rapidamente devido à alavancagem. 84% das contas de investidores de retalhos perdem dinheiro quando negociam derivativos__\", \"**🟡  Semicondutores no Radar**\\n\\n**Estados Unidos pondera uma grande venda de Chips para os Emirados, segundo o New York Times citando fontes**\\n \\n__Via Terminal Macro Trader / ActivTrades\\n\\n...\\nDisclaimer ActivTrades Brasil: Os derivativos financeiros são instrumentos complexos e apresentam um alto risco de perder dinheiro rapidamente devido à alavancagem. 84% das contas de investidores de retalhos perdem dinheiro quando negociam derivativos__\", \"**FX no Radar**\\n    \\n**Dólar sobe forte após acordo entre Estados Unidos e China de reduzir tarifas em 115%; DXY tem maior alta desde novembro de 2024**\\n  \\n▶️ O dólar ganhou força contra outras moedas após o anúncio de que EUA e China vão reduzir tarifas em 115% sobre produtos um do outro.\\n \\n▶️ O índice DXY subiu para perto de 101,97, registrando sua maior alta desde novembro de 2024.\\n \\n▶️ A redução de tensões comerciais permitiu ao dólar acompanhar a valorização das bolsas americanas.\\n \\n▶️ O secretário do Tesouro dos EUA disse que não houve conversas sobre câmbio. Analistas alertaram que o acordo é temporário e pode trazer riscos de estagflação. Agora, o mercado espera os dados de inflação da próxima terça-feira.\\n  \\n  __Via Terminal Macro Trader / ActivTrades\\n\\n...\\nDisclaimer ActivTrades Brasil: Os derivativos financeiros são instrumentos complexos e apresentam um alto risco de perder dinheiro rapidamente devido à alavancagem. 84% das contas de investidores de retalhos perdem dinheiro quando negociam derivativos__\", \"**EUA no Radar**\\n    \\n**Secretário de Estado dos Estados Unidos anuncia sanções a três cidadãos e uma entidade iranianos ligados à pesquisa de defesa**\\n  \\n  __Via Terminal Macro Trader / ActivTrades\\n\\n...\\nDisclaimer ActivTrades Brasil: Os derivativos financeiros são instrumentos complexos e apresentam um alto risco de perder dinheiro rapidamente devido à alavancagem. 84% das contas de investidores de retalhos perdem dinheiro quando negociam derivativos__\", \"**Banco do México no Radar**\\n    \\n**Banxico deve cortar taxa em 50 pontos-base na quinta-feira, dizem analistas 30/31 pesquisados; 1 espera manutenção da taxa, segundo pesquisa da Reuters**\\n  \\n  __Via Terminal Macro Trader / ActivTrades\\n\\n...\\nDisclaimer ActivTrades Brasil: Os derivativos financeiros são instrumentos complexos e apresentam um alto risco de perder dinheiro rapidamente devido à alavancagem. 84% das contas de investidores de retalhos perdem dinheiro quando negociam derivativos__\", \"**Geopolítica no Radar**\\n    \\n**O ministro das Relações Exteriores turco discutiu os esforços para alcançar a paz entre a Rússia e a Ucrânia com seu homólogo russo em uma ligação telefônica, de acordo com a Reuters citando uma fonte diplomática turca**\\n  \\n  __Via Terminal Macro Trader / ActivTrades\\n\\n...\\nDisclaimer ActivTrades Brasil: Os derivativos financeiros são instrumentos complexos e apresentam um alto risco de perder dinheiro rapidamente devido à alavancagem. 84% das contas de investidores de retalhos perdem dinheiro quando negociam derivativos__\", \"**EUA no Radar**\\n  \\n▶️ Um projeto de lei apresentado pelos republicanos da Câmara dos Representantes dos EUA inclui uma isenção para o pagamento de horas extras, com algumas exceções.\\n \\n▶️ Além disso, o texto do projeto também propõe isentar gorjetas recebidas por trabalhadores do imposto de renda, novamente com algumas exceções.\\n  \\n  __Via Terminal Macro Trader / ActivTrades\\n\\n...\\nDisclaimer ActivTrades Brasil: Os derivativos financeiros são instrumentos complexos e apresentam um alto risco de perder dinheiro rapidamente devido à alavancagem. 84% das contas de investidores de retalhos perdem dinheiro quando negociam derivativos__\", \"**Fed no Radar**\\n    \\n**Goolsbee do Fed diz que o Fed poderia se dar ao luxo de levar tempo para tomar decisões políticas**\\n  \\n  __Via Terminal Macro Trader / ActivTrades\\n\\n...\\nDisclaimer ActivTrades Brasil: Os derivativos financeiros são instrumentos complexos e apresentam um alto risco de perder dinheiro rapidamente devido à alavancagem. 84% das contas de investidores de retalhos perdem dinheiro quando negociam derivativos__\", \"**Fed no Radar**\\n    \\n**Goolsbee do Fed diz que a natureza temporária do acordo pesaria sobre a economia; O nível de exigência para a ação tem que ser alto**\\n  \\n  __Via Terminal Macro Trader / ActivTrades\\n\\n...\\nDisclaimer ActivTrades Brasil: Os derivativos financeiros são instrumentos complexos e apresentam um alto risco de perder dinheiro rapidamente devido à alavancagem. 84% das contas de investidores de retalhos perdem dinheiro quando negociam derivativos__\", \"**Fed no Radar**\\n    \\n**Goolsbee, do Fed (vota em 2025), diz que tarifas ainda teriam impulso estagflacionário, relata o NYT**\\n  \\n  __Via Terminal Macro Trader / ActivTrades\\n\\n...\\nDisclaimer ActivTrades Brasil: Os derivativos financeiros são instrumentos complexos e apresentam um alto risco de perder dinheiro rapidamente devido à alavancagem. 84% das contas de investidores de retalhos perdem dinheiro quando negociam derivativos__\", \"**Fed no Radar**\\n    \\n**Goolsbee, do Fed (vota em 2025), diz que tarifas ainda teriam impulso estagflacionário, relata o NYT**\\n  \\n  __Via Terminal Macro Trader / ActivTrades\\n\\n...\\nDisclaimer ActivTrades Brasil: Os derivativos financeiros são instrumentos complexos e apresentam um alto risco de perder dinheiro rapidamente devido à alavancagem. 84% das contas de investidores de retalhos perdem dinheiro quando negociam derivativos__\", \"**Apple no Radar**\\n    \\n**Apple planeja modo de gestão de bateria com IA nos dispositivos para o iOS 19, diz Bloomberg**\\n  \\n▶️ Apple segue subindo na sessão trabalhando na região dos 210\\n  \\n  __Via Terminal Macro Trader / ActivTrades\\n\\n...\\nDisclaimer ActivTrades Brasil: Os derivativos financeiros são instrumentos complexos e apresentam um alto risco de perder dinheiro rapidamente devido à alavancagem. 84% das contas de investidores de retalhos perdem dinheiro quando negociam derivativos__\", \"**EUA no Radar**\\n    \\n**Bancos dos Estados Unidos relatam queda na demanda por empréstimos empresariais no 1º trimestre, a mais fraca para empresas grandes desde o 3º trimestre**\\n  \\n  __Via Terminal Macro Trader / ActivTrades\\n\\n...\\nDisclaimer ActivTrades Brasil: Os derivativos financeiros são instrumentos complexos e apresentam um alto risco de perder dinheiro rapidamente devido à alavancagem. 84% das contas de investidores de retalhos perdem dinheiro quando negociam derivativos__\", \"**EUA no Radar**\\n    \\n**Déficit orçamentário dos Estados Unidos chega a US$ 258 bilhões em abril, acima da expectativa**\\n  \\n  __Via Terminal Macro Trader / ActivTrades\\n\\n...\\nDisclaimer ActivTrades Brasil: Os derivativos financeiros são instrumentos complexos e apresentam um alto risco de perder dinheiro rapidamente devido à alavancagem. 84% das contas de investidores de retalhos perdem dinheiro quando negociam derivativos__\", \"**Intel no Radar**\\n    \\n**Intel fecha provavelmente acordo com novo cliente para sua divisão de fundição, diz site SemiAccurate**\\n  \\n  __Via Terminal Macro Trader / ActivTrades\\n\\n...\\nDisclaimer ActivTrades Brasil: Os derivativos financeiros são instrumentos complexos e apresentam um alto risco de perder dinheiro rapidamente devido à alavancagem. 84% das contas de investidores de retalhos perdem dinheiro quando negociam derivativos__\", \"**Geopolítica no Radar**\\n    \\n**Ministro das Relações Exteriores da Turquia conversa por telefone com Rubio sobre situação na Síria, Gaza e guerra na Ucrânia**\\n  \\n  __Via Terminal Macro Trader / ActivTrades\\n\\n...\\nDisclaimer ActivTrades Brasil: Os derivativos financeiros são instrumentos complexos e apresentam um alto risco de perder dinheiro rapidamente devido à alavancagem. 84% das contas de investidores de retalhos perdem dinheiro quando negociam derivativos__\", \"**🔴 Resumo do Radar do Mercado**\\n**\\n▶️ EUA e China Acordam Corte Temporário de Tarifas por Três Meses**\\n\\nOs EUA reduzirão tarifas sobre importações chinesas de 145% para 30%, enquanto a China cortará tarifas sobre produtos americanos de 125% para 10%. Fontes da Bloomberg e pesquisas do mercado esperavam que as tarifas fossem reduzidas para cerca de 50 até 60% pelos EUA.\\n**\\n▶️ Hamas Pede que Trump Intensifique Esforços por Solução em Gaza**\\n\\nO grupo reiterou seu pedido para que a administração Trump atue na mediação do conflito em Gaza, afirmou estar disposto a participar de negociações para alcançar uma solução.\\n\\n**🔴 O Radar de Mercado completo está disponível apenas no Terminal Macro Trader. Cliente ActivTrades tem acesso gratuito.\\n\\nAcesse: ****https://www.macrotrader.com.br**\\n...\\nDisclaimer ActivTrades Brasil: Os derivativos financeiros são instrumentos complexos e apresentam um alto risco de perder dinheiro rapidamente devido à alavancagem. 83% das contas de investidores de retalhos perdem dinheiro quando negociam derivativos\", \"**EUA no Radar**\\n    \\n**A demanda pelo instrumento RRP (Reverse Repo Program) do Federal Reserve de Nova York subiu para US$ 148 bilhões, ante US$ 142 bilhões anteriormente**\\n  \\n▶️ O número de instituições participantes também aumentou, passando de 31 para 34.\\n  \\n  __Via Terminal Macro Trader / ActivTrades\\n\\n...\\nDisclaimer ActivTrades Brasil: Os derivativos financeiros são instrumentos complexos e apresentam um alto risco de perder dinheiro rapidamente devido à alavancagem. 84% das contas de investidores de retalhos perdem dinheiro quando negociam derivativos__\", \"**EUA no Radar**\\n    \\n**O chefe do maior porto dos Estados Unidos, o de Los Angeles, disse numa entrevista que não deve ter uma explosão nas importações agora com a queda temporária das taxas sobre produtos da China**\\n  \\n  __Via Terminal Macro Trader / ActivTrades\\n\\n...\\nDisclaimer ActivTrades Brasil: Os derivativos financeiros são instrumentos complexos e apresentam um alto risco de perder dinheiro rapidamente devido à alavancagem. 84% das contas de investidores de retalhos perdem dinheiro quando negociam derivativos__\", \"**Brasil no Radar**\\n    \\n**Secretário-executivo da Fazenda, Dario Durigan, participa da Brazil Week em Nova York para atrair investimentos**\\n  \\n▶️ O secretário-executivo do Ministério da Fazenda, Dario Durigan, está nos Estados Unidos para participar da Brazil Week em Nova York.\\n \\n▶️ O objetivo é mostrar a investidores e empresários internacionais as oportunidades de negócios no Brasil, com destaque para avanços fiscais e regulatórios, como a reforma tributária e o Novo Brasil — plano de transformação ecológica.\\n  \\n  __Via Terminal Macro Trader / ActivTrades\\n\\n...\\nDisclaimer ActivTrades Brasil: Os derivativos financeiros são instrumentos complexos e apresentam um alto risco de perder dinheiro rapidamente devido à alavancagem. 84% das contas de investidores de retalhos perdem dinheiro quando negociam derivativos__\", \"**EUA no Radar**\\n    \\n**Trump anuncia que republicanos estão trabalhando em projeto de lei \\\"grande e bonito\\\" nas comissões de Tributação, Energia e Agricultura**\\n  \\n  __Via Terminal Macro Trader / ActivTrades\\n\\n...\\nDisclaimer ActivTrades Brasil: Os derivativos financeiros são instrumentos complexos e apresentam um alto risco de perder dinheiro rapidamente devido à alavancagem. 84% das contas de investidores de retalhos perdem dinheiro quando negociam derivativos__\", \"**EUA no Radar**\\n    \\n**Os índices de ações americanas seguem em alta com o Dow Jones +2,58% e o S&P500 +3,03% próximos da máxima da sessão**\\n  \\n  \\n __Via Terminal Macro Trader / ActivTrades\\n\\n...\\nDisclaimer ActivTrades Brasil: Os derivativos financeiros são instrumentos complexos e apresentam um alto risco de perder dinheiro rapidamente devido à alavancagem. 84% das contas de investidores de retalhos perdem dinheiro quando negociam derivativos__\", \"**BCE no Radar**\\n    \\n**Escriva do Banco Central Europeu diz que devem ser humildes ao avaliar a situação atual**\\n  \\n  __Via Terminal Macro Trader / ActivTrades\\n\\n...\\nDisclaimer ActivTrades Brasil: Os derivativos financeiros são instrumentos complexos e apresentam um alto risco de perder dinheiro rapidamente devido à alavancagem. 84% das contas de investidores de retalhos perdem dinheiro quando negociam derivativos__\", \"**BCE no Radar**\\n    \\n**Nagel, do Banco Central Europeu, diz que não devem reagir exageradamente a anúncios individuais**\\n  \\n  __Via Terminal Macro Trader / ActivTrades\\n\\n...\\nDisclaimer ActivTrades Brasil: Os derivativos financeiros são instrumentos complexos e apresentam um alto risco de perder dinheiro rapidamente devido à alavancagem. 84% das contas de investidores de retalhos perdem dinheiro quando negociam derivativos__\", \"**No Brasil, o Dólar Futuro segue lateralizado na sessão sem uma direção clara**\\n  \\n  __Via Terminal Macro Trader / ActivTrades\\n\\n...\\nDisclaimer ActivTrades Brasil: Os derivativos financeiros são instrumentos complexos e apresentam um alto risco de perder dinheiro rapidamente devido à alavancagem. 84% das contas de investidores de retalhos perdem dinheiro quando negociam derivativos__\", \"**BoE no Radar**\\n    \\n**Taylor, do Banco da Inglaterra, diz que taxa neutra é de 2,75-3% no Reino Unido**\\n  \\n▶️ \\\"A previsão central do BoE tinha um tratamento \\\"bastante brando\\\" da situação do comércio global.\\\"\\n  \\n  __Via Terminal Macro Trader / ActivTrades\\n\\n...\\nDisclaimer ActivTrades Brasil: Os derivativos financeiros são instrumentos complexos e apresentam um alto risco de perder dinheiro rapidamente devido à alavancagem. 84% das contas de investidores de retalhos perdem dinheiro quando negociam derivativos__\", \"**BoE no Radar**\\n    \\n**Taylor do Banco da Inglaterra diz que o choque tarifário foi maior do que qualquer um esperava; fala que existe uma sensação de precaução e preocupação**\\n  \\n  __Via Terminal Macro Trader / ActivTrades\\n\\n...\\nDisclaimer ActivTrades Brasil: Os derivativos financeiros são instrumentos complexos e apresentam um alto risco de perder dinheiro rapidamente devido à alavancagem. 84% das contas de investidores de retalhos perdem dinheiro quando negociam derivativos__\", \"**BoE no Radar**\\n    \\n**Taylor, do Banco da Inglaterra, diz que a perda de confiança empresarial no Reino Unido continuou, segundo pesquisas REC e PMI**\\n  \\n  __Via Terminal Macro Trader / ActivTrades\\n\\n...\\nDisclaimer ActivTrades Brasil: Os derivativos financeiros são instrumentos complexos e apresentam um alto risco de perder dinheiro rapidamente devido à alavancagem. 84% das contas de investidores de retalhos perdem dinheiro quando negociam derivativos__\", \"**Tesla no Radar**\\n    \\n**Agência de segurança dos Estados Unidos pede que Tesla responda sobre plano de serviço Robotaxi pago em Austin até junho**\\n  \\n  __Via Terminal Macro Trader / ActivTrades\\n\\n...\\nDisclaimer ActivTrades Brasil: Os derivativos financeiros são instrumentos complexos e apresentam um alto risco de perder dinheiro rapidamente devido à alavancagem. 84% das contas de investidores de retalhos perdem dinheiro quando negociam derivativos__\", \"**Petróleo no Radar**\\n    \\n**Goldman Sachs prevê aumento de 410 mil barris/dia da OPEP+ em julho, seguido de pausa**\\n  \\n  __Via Terminal Macro Trader / ActivTrades\\n\\n...\\nDisclaimer ActivTrades Brasil: Os derivativos financeiros são instrumentos complexos e apresentam um alto risco de perder dinheiro rapidamente devido à alavancagem. 84% das contas de investidores de retalhos perdem dinheiro quando negociam derivativos__\", \"**FED no Radar**\\n    \\n**Bank of America (BofA) acredita que o Federal Reserve (Fed) mantenha as taxas de juros inalteradas este ano, mas agora se projeta cortes de 100 pontos-base para o próximo ano, provavelmente no segundo semestre com a desescalada comercial**\\n  \\n  __Via Terminal Macro Trader / ActivTrades\\n\\n...\\nDisclaimer ActivTrades Brasil: Os derivativos financeiros são instrumentos complexos e apresentam um alto risco de perder dinheiro rapidamente devido à alavancagem. 84% das contas de investidores de retalhos perdem dinheiro quando negociam derivativos__\", \"**EUA no Radar**\\n    \\n**Estoques de Milho nos EUA Ficam Menores que o Esperado em Maio**\\n  \\n▶️ Estoques finais de soja: 295 milhões de bushels (estimativa: 360 milhões; anterior: 375 milhões).\\n \\n▶️ Estoques totais de trigo: 923 milhões de bushels (estimativa: 851 milhões; anterior: 846 milhões).\\n \\n▶️ Estoques finais de algodão: 5,2 milhões de toneladas (estimativa: 5,11 milhões; anterior: 5,0 milhões).\\n  \\n  __Via Terminal Macro Trader / ActivTrades\\n\\n...\\nDisclaimer ActivTrades Brasil: Os derivativos financeiros são instrumentos complexos e apresentam um alto risco de perder dinheiro rapidamente devido à alavancagem. 84% das contas de investidores de retalhos perdem dinheiro quando negociam derivativos__\", \"**BoE no Radar**\\n    \\n**O membro do Banco da Inglaterra, Michael Taylor, votou a favor de um corte de meio ponto percentual na taxa de juros na reunião semanal realizada na semana passada**\\n  \\n  __Via Terminal Macro Trader / ActivTrades\\n\\n...\\nDisclaimer ActivTrades Brasil: Os derivativos financeiros são instrumentos complexos e apresentam um alto risco de perder dinheiro rapidamente devido à alavancagem. 84% das contas de investidores de retalhos perdem dinheiro quando negociam derivativos__\", \"**No Brasil, Ibovespa Futuro segue ampliando queda na sessão e renova mínima do dia aproximando da região dos 138 mil pontos**\\n  \\n  __Via Terminal Macro Trader / ActivTrades\\n\\n...\\nDisclaimer ActivTrades Brasil: Os derivativos financeiros são instrumentos complexos e apresentam um alto risco de perder dinheiro rapidamente devido à alavancagem. 84% das contas de investidores de retalhos perdem dinheiro quando negociam derivativos__\", \"**EUA no Radar**\\n    \\n**Novo Nordisk Reconhece Importância de Preços Competitivos para Medicamentos, segundo agência de notícias Ritzau**\\n  \\n▶️ Novo Nordisk afirmou que concorda com a necessidade de os americanos terem acesso a medicamentos a preços mais competitivos e destacou que continuará trabalhando com formuladores de políticas para desenvolver e implementar soluções mais eficazes.\\n  \\n  __Via Terminal Macro Trader / ActivTrades\\n\\n...\\nDisclaimer ActivTrades Brasil: Os derivativos financeiros são instrumentos complexos e apresentam um alto risco de perder dinheiro rapidamente devido à alavancagem. 84% das contas de investidores de retalhos perdem dinheiro quando negociam derivativos__\", \"**Brasil no Radar**\\n    \\n**Vice-presidente e Ministro do Brasil, Geraldo Alckmin: \\\"Nova lei do IR vai melhorar o poder de compra e o consumo; É importante promover justiça tributária para estimular um Brasil produtivo\\\"**\\n  \\n  __Via Terminal Macro Trader / ActivTrades\\n\\n...\\nDisclaimer ActivTrades Brasil: Os derivativos financeiros são instrumentos complexos e apresentam um alto risco de perder dinheiro rapidamente devido à alavancagem. 84% das contas de investidores de retalhos perdem dinheiro quando negociam derivativos__\", \"**Os principais índices de Wall Street operam em alta, impulsionados por um acordo crucial entre Estados Unidos e China para reduzir tarifas bilaterais, o que trouxe alívio aos mercados após semanas de incerteza sobre o comércio global. \\n\\n__🔹No mercado cambial, o dólar opera em alta frente aos seus principais pares e ante a maioria das divisas emergentes. \\n\\n🔹No setor energético, os preços do petróleo operam em alta, após Estados Unidos e China anunciarem um acordo para aliviar temporariamente suas tarifas comerciais.\\n\\n🔹No Brasil, o Ibovespa opera em leve queda em uma sessão marcada pela divulgação do Focus que trouxe as projeções para a inflação de 2025 recuando pela quarta semana consecutiva. Em entrevista ao UOL, o ministro Fernando Haddad afirmou que Lula anunciará política para data centers após viagem e reforçou neutralidade do Brasil entre EUA e China. No câmbio, o dólar opera em alta frente ao real, já os juros futuros brasileiros seguem os treasuries americanos e sobem em todos os vértices da curva.__**\", \"**🔴 Geopolítica no Radar**\\n    \\n**Hamas emitiu um comunicado pedindo à administração Trump que intensifique esforços para encerrar o conflito em Gaza; O grupo afirmou estar pronto para participar de negociações com o objetivo de alcançar uma solução**\\n  \\n  __Via Terminal Macro Trader / ActivTrades\\n\\n...\\nDisclaimer ActivTrades Brasil: Os derivativos financeiros são instrumentos complexos e apresentam um alto risco de perder dinheiro rapidamente devido à alavancagem. 84% das contas de investidores de retalhos perdem dinheiro quando negociam derivativos__\", \"**Brasil no Radar**\\n    \\n**Ibovespa futuro zera os ganhos da sessão após subir 1,5% com otimismo externo e acordo EUA-China**\\n  \\n  __Via Terminal Macro Trader / ActivTrades\\n\\n...\\nDisclaimer ActivTrades Brasil: Os derivativos financeiros são instrumentos complexos e apresentam um alto risco de perder dinheiro rapidamente devido à alavancagem. 84% das contas de investidores de retalhos perdem dinheiro quando negociam derivativos__\", \"**🟡 FED no Radar**\\n    \\n**FED/Kugler (votante) afirmou que acredita que aumentos de preços relacionados às tarifas podem ter um impacto permanente**\\n  \\n  __Via Terminal Macro Trader / ActivTrades\\n\\n...\\nDisclaimer ActivTrades Brasil: Os derivativos financeiros são instrumentos complexos e apresentam um alto risco de perder dinheiro rapidamente devido à alavancagem. 84% das contas de investidores de retalhos perdem dinheiro quando negociam derivativos__\", \"**🔴 FED no Radar**\\n    \\n**FED/Kugler (votante): \\\"Ainda espero aumento nos preços e desaceleração na economia, mesmo que as tarifas não sejam tão altas\\\"**\\n  \\n  __Via Terminal Macro Trader / ActivTrades\\n\\n...\\nDisclaimer ActivTrades Brasil: Os derivativos financeiros são instrumentos complexos e apresentam um alto risco de perder dinheiro rapidamente devido à alavancagem. 84% das contas de investidores de retalhos perdem dinheiro quando negociam derivativos__\", \"**Ibovespa Futuro segue caindo na sessão trabalhando na região dos 138 mil pontos**\\n  \\n  __Via Terminal Macro Trader / ActivTrades\\n\\n...\\nDisclaimer ActivTrades Brasil: Os derivativos financeiros são instrumentos complexos e apresentam um alto risco de perder dinheiro rapidamente devido à alavancagem. 84% das contas de investidores de retalhos perdem dinheiro quando negociam derivativos__\", \"**Tarifas no Radar**\\n    \\n**Estados Unidos Recebem Propostas da UE para Cooperação, Mas Não Esclarecem Futuro de Negociações Comerciais, relatou a Bloomberg**\\n  \\n▶️ Os Estados Unidos receberam com interesse as propostas da União Europeia (UE) para cooperação em investimentos mútuos e desafios de segurança econômica, mas ainda não esclareceram os possíveis resultados das negociações comerciais entre as duas partes.\\n \\n▶️  Na semana passada, negociadores da UE e dos EUA iniciaram conversas, com a UE apresentando opções como investimentos em gás natural liquefeito, inteligência artificial e parcerias em setores estratégicos, como aço, carros, chips e aviação, disseram fontes à Bloomberg\\n \\n▶️ Apesar do interesse dos EUA, não está claro se isso resultará na redução das tarifas impostas pelo presidente Donald Trump ou se haverá benefícios mútuos nas negociações.\\n  \\n  __Via Terminal Macro Trader / ActivTrades\\n\\n...\\nDisclaimer ActivTrades Brasil: Os derivativos financeiros são instrumentos complexos e apresentam um alto risco de perder dinheiro rapidamente devido à alavancagem. 84% das contas de investidores de retalhos perdem dinheiro quando negociam derivativos__\", \"**🟡 EUA no Radar**\\n    \\n**Estados Unidos emitem novas sanções relacionadas ao Irã, segundo site do departamento de Tesouro**\\n  \\n  __Via Terminal Macro Trader / ActivTrades\\n\\n...\\nDisclaimer ActivTrades Brasil: Os derivativos financeiros são instrumentos complexos e apresentam um alto risco de perder dinheiro rapidamente devido à alavancagem. 84% das contas de investidores de retalhos perdem dinheiro quando negociam derivativos__\", \"**EUA x Irã no Radar**\\n    \\n**Estados Unidos impõem novas sanções relacionadas ao Irã, segundo site do Tesouro**\\n  \\n▶️ Os Estados Unidos anunciaram novas sanções contra indivíduos e entidades ligadas ao Irã, por meio do Departamento do Tesouro\\n  \\n  __Via Terminal Macro Trader / ActivTrades\\n\\n...\\nDisclaimer ActivTrades Brasil: Os derivativos financeiros são instrumentos complexos e apresentam um alto risco de perder dinheiro rapidamente devido à alavancagem. 84% das contas de investidores de retalhos perdem dinheiro quando negociam derivativos__\", \"**🟡 Trump no Radar**\\n\\n**Encerra a Coletiva de Imprensa de Trump**\\n \\n__Via Terminal Macro Trader / ActivTrades\\n\\n...\\nDisclaimer ActivTrades Brasil: Os derivativos financeiros são instrumentos complexos e apresentam um alto risco de perder dinheiro rapidamente devido à alavancagem. 84% das contas de investidores de retalhos perdem dinheiro quando negociam derivativos__\", \"**🔴 Trump no Radar**\\n    \\n**Trump assina ordem executiva que tem como objetivo reduzir os preços dos medicamentos nos Estados Unidos**\\n  \\n  __Via Terminal Macro Trader / ActivTrades\\n\\n...\\nDisclaimer ActivTrades Brasil: Os derivativos financeiros são instrumentos complexos e apresentam um alto risco de perder dinheiro rapidamente devido à alavancagem. 84% das contas de investidores de retalhos perdem dinheiro quando negociam derivativos__\", \"**EUA x Rússia no Radar**\\n    \\n**Trump acredita que Rússia aceitará cessar-fogo de 30 dias**\\n  \\n▶️ O presidente dos EUA, Donald Trump, afirmou acreditar que a Rússia concordará com um cessar-fogo de 30 dias\\n  \\n  __Via Terminal Macro Trader / ActivTrades\\n\\n...\\nDisclaimer ActivTrades Brasil: Os derivativos financeiros são instrumentos complexos e apresentam um alto risco de perder dinheiro rapidamente devido à alavancagem. 84% das contas de investidores de retalhos perdem dinheiro quando negociam derivativos__\", \"**🔴 Trump no Radar**\\n    \\n**Trump: \\\"Sinto que Putin irá concordar com um cessar-fogo\\\"**\\n  \\n  __Via Terminal Macro Trader / ActivTrades\\n\\n...\\nDisclaimer ActivTrades Brasil: Os derivativos financeiros são instrumentos complexos e apresentam um alto risco de perder dinheiro rapidamente devido à alavancagem. 84% das contas de investidores de retalhos perdem dinheiro quando negociam derivativos__\", \"**🔴 Trump no Radar**\\n    \\n**Trump elogia os investimentos da Eli Lilly nos Estados Unidos**\\n  \\n  __Via Terminal Macro Trader / ActivTrades\\n\\n...\\nDisclaimer ActivTrades Brasil: Os derivativos financeiros são instrumentos complexos e apresentam um alto risco de perder dinheiro rapidamente devido à alavancagem. 84% das contas de investidores de retalhos perdem dinheiro quando negociam derivativos__\", \"**🔴 Trump no Radar**\\n    \\n**Trump diz que não estão conversando sobre mudar as tarifas aplicadas sobre carros e aço**\\n  \\n  __Via Terminal Macro Trader / ActivTrades\\n\\n...\\nDisclaimer ActivTrades Brasil: Os derivativos financeiros são instrumentos complexos e apresentam um alto risco de perder dinheiro rapidamente devido à alavancagem. 84% das contas de investidores de retalhos perdem dinheiro quando negociam derivativos__\", \"**EUA no Radar**\\n    \\n**Trump diz que tarifas sobre produtos chineses vão subir sem acordo, mas não voltarão aos 145%**\\n  \\n▶️ O presidente dos EUA, Donald Trump, afirmou que as tarifas sobre importações da China aumentarão caso não haja um acordo comercial\\n  \\n  __Via Terminal Macro Trader / ActivTrades\\n\\n...\\nDisclaimer ActivTrades Brasil: Os derivativos financeiros são instrumentos complexos e apresentam um alto risco de perder dinheiro rapidamente devido à alavancagem. 84% das contas de investidores de retalhos perdem dinheiro quando negociam derivativos__\", \"**Petróleo no Radar**\\n    \\n**Desescalada Geopolítica e Trump comentando que terão boa relação com o Irã, Petróleo se afasta da máxima WTI +2,65%**\\n  \\n  __Via Terminal Macro Trader / ActivTrades\\n\\n...\\nDisclaimer ActivTrades Brasil: Os derivativos financeiros são instrumentos complexos e apresentam um alto risco de perder dinheiro rapidamente devido à alavancagem. 84% das contas de investidores de retalhos perdem dinheiro quando negociam derivativos__\", \"**Índia x Paquistão no Radar**\\n    \\n**Primeiro-ministro da Índia, Modi diz que mais de 100 \\\"militantes\\\" foram mortos em ataques**\\n  \\n  __Via Terminal Macro Trader / ActivTrades\\n\\n...\\nDisclaimer ActivTrades Brasil: Os derivativos financeiros são instrumentos complexos e apresentam um alto risco de perder dinheiro rapidamente devido à alavancagem. 84% das contas de investidores de retalhos perdem dinheiro quando negociam derivativos__\", \"**🔴 Trump no Radar**\\n    \\n**Trump diz que as tarifas sobre a China não voltarão a 145%**\\n  \\n  __Via Terminal Macro Trader / ActivTrades\\n\\n...\\nDisclaimer ActivTrades Brasil: Os derivativos financeiros são instrumentos complexos e apresentam um alto risco de perder dinheiro rapidamente devido à alavancagem. 84% das contas de investidores de retalhos perdem dinheiro quando negociam derivativos__\", \"**🔴 Trump no Radar**\\n    \\n**Trump diz que pode ir para a reunião da Ucrânia em Istambul, Túrquia**\\n  \\n  __Via Terminal Macro Trader / ActivTrades\\n\\n...\\nDisclaimer ActivTrades Brasil: Os derivativos financeiros são instrumentos complexos e apresentam um alto risco de perder dinheiro rapidamente devido à alavancagem. 84% das contas de investidores de retalhos perdem dinheiro quando negociam derivativos__\", \"**EUA x Irã no Radar**\\n    \\n**Trump diz que Irã está agindo de forma inteligente e razoável em relação a temas nucleares**\\n  \\n  __Via Terminal Macro Trader / ActivTrades\\n\\n...\\nDisclaimer ActivTrades Brasil: Os derivativos financeiros são instrumentos complexos e apresentam um alto risco de perder dinheiro rapidamente devido à alavancagem. 84% das contas de investidores de retalhos perdem dinheiro quando negociam derivativos__\", \"**🔴 Trump no Radar**\\n    \\n**Trump diz que várias coisas boas aconteceram com o Irã, e que são \\\"razoáveis\\\"**\\n  \\n  __Via Terminal Macro Trader / ActivTrades\\n\\n...\\nDisclaimer ActivTrades Brasil: Os derivativos financeiros são instrumentos complexos e apresentam um alto risco de perder dinheiro rapidamente devido à alavancagem. 84% das contas de investidores de retalhos perdem dinheiro quando negociam derivativos__\", \"**EUA no Radar**\\n    \\n**Estados Unidos dizem estar abertos a cooperação com UE em segurança econômica, segundo informações da Bloomberg**\\n  \\n  __Via Terminal Macro Trader / ActivTrades\\n\\n...\\nDisclaimer ActivTrades Brasil: Os derivativos financeiros são instrumentos complexos e apresentam um alto risco de perder dinheiro rapidamente devido à alavancagem. 84% das contas de investidores de retalhos perdem dinheiro quando negociam derivativos__\", \"**🔴 Trump no Radar**\\n    \\n**Trump diz que vários outros acordos estão chegando**\\n  \\n  __Via Terminal Macro Trader / ActivTrades\\n\\n...\\nDisclaimer ActivTrades Brasil: Os derivativos financeiros são instrumentos complexos e apresentam um alto risco de perder dinheiro rapidamente devido à alavancagem. 84% das contas de investidores de retalhos perdem dinheiro quando negociam derivativos__\", \"**🔴 FED no Radar**\\n    \\n**Adriana Kugler (votante em 2025, 2026 e 2027) disse que favoreceu manter as taxas no nível restritivo e que o FED está em boa posição frente ao cenário macroeconômico**\\n  \\n  __Via Terminal Macro Trader / ActivTrades\\n\\n...\\nDisclaimer ActivTrades Brasil: Os derivativos financeiros são instrumentos complexos e apresentam um alto risco de perder dinheiro rapidamente devido à alavancagem. 84% das contas de investidores de retalhos perdem dinheiro quando negociam derivativos__\", \"**🟡 FED no Radar**\\n    \\n**FED/Kugler (votante): \\\"O mercado de trabalho se mostra estável; o progresso da desinflação desacelerou\\\"**\\n  \\n  __Via Terminal Macro Trader / ActivTrades\\n\\n...\\nDisclaimer ActivTrades Brasil: Os derivativos financeiros são instrumentos complexos e apresentam um alto risco de perder dinheiro rapidamente devido à alavancagem. 84% das contas de investidores de retalhos perdem dinheiro quando negociam derivativos__\", \"**🔴 Trump no Radar**\\n    \\n**Trump diz que irá abrir os mercados para importações de medicamentos seguros**\\n  \\n  __Via Terminal Macro Trader / ActivTrades\\n\\n...\\nDisclaimer ActivTrades Brasil: Os derivativos financeiros são instrumentos complexos e apresentam um alto risco de perder dinheiro rapidamente devido à alavancagem. 84% das contas de investidores de retalhos perdem dinheiro quando negociam derivativos__\", \"**🔴 Trump no Radar**\\n    \\n**Trump diz que cortará os intermediários nas vendas de medicamentos e irão ajudar as farmacêuticas com o auxílio de outros países**\\n  \\n  __Via Terminal Macro Trader / ActivTrades\\n\\n...\\nDisclaimer ActivTrades Brasil: Os derivativos financeiros são instrumentos complexos e apresentam um alto risco de perder dinheiro rapidamente devido à alavancagem. 84% das contas de investidores de retalhos perdem dinheiro quando negociam derivativos__\", \"**Itália no Radar**\\n    \\n**Itália mantém condições para aprovação da fusão entre UniCredit e Banco BPM, dizem fontes à Reuters**\\n  \\n  __Via Terminal Macro Trader / ActivTrades\\n\\n...\\nDisclaimer ActivTrades Brasil: Os derivativos financeiros são instrumentos complexos e apresentam um alto risco de perder dinheiro rapidamente devido à alavancagem. 84% das contas de investidores de retalhos perdem dinheiro quando negociam derivativos__\", \"**🔴 Trump no Radar**\\n    \\n**Trump diz que o preço dos medicamentos irá afetar o orçamento e que os republicanos podem fazer muito melhor do que o ObamaCare**\\n  \\n  __Via Terminal Macro Trader / ActivTrades\\n\\n...\\nDisclaimer ActivTrades Brasil: Os derivativos financeiros são instrumentos complexos e apresentam um alto risco de perder dinheiro rapidamente devido à alavancagem. 84% das contas de investidores de retalhos perdem dinheiro quando negociam derivativos__\", \"**México x EUA no Radar**\\n    \\n**A presidente do México, Claudia Sheinbaum, manifestou discordância com a decisão dos Estados Unidos de suspender as importações de gado bovino mexicano após a detecção do parasita conhecido como bicho-da-peste**\\n  \\n  __Via Terminal Macro Trader / ActivTrades\\n\\n...\\nDisclaimer ActivTrades Brasil: Os derivativos financeiros são instrumentos complexos e apresentam um alto risco de perder dinheiro rapidamente devido à alavancagem. 84% das contas de investidores de retalhos perdem dinheiro quando negociam derivativos__\", \"**China x EUA no Radar**\\n    \\n**Ministro do Comércio da China diz que diálogo com Estados Unidos abre espaço para reduzir divergências e ampliar cooperação**\\n  \\n  __Via Terminal Macro Trader / ActivTrades\\n\\n...\\nDisclaimer ActivTrades Brasil: Os derivativos financeiros são instrumentos complexos e apresentam um alto risco de perder dinheiro rapidamente devido à alavancagem. 84% das contas de investidores de retalhos perdem dinheiro quando negociam derivativos__\", \"**🟡 China no Radar**\\n    \\n**Ministério de Comércio da China promete mais apoio à empresas de comércio exterior**\\n  \\n  __Via Terminal Macro Trader / ActivTrades\\n\\n...\\nDisclaimer ActivTrades Brasil: Os derivativos financeiros são instrumentos complexos e apresentam um alto risco de perder dinheiro rapidamente devido à alavancagem. 84% das contas de investidores de retalhos perdem dinheiro quando negociam derivativos__\", \"**🔴 Trump no Radar**\\n    \\n**Trump diz que de várias maneiras a União Europeia é \\\"pior do que a China\\\"**\\n  \\n  __Via Terminal Macro Trader / ActivTrades\\n\\n...\\nDisclaimer ActivTrades Brasil: Os derivativos financeiros são instrumentos complexos e apresentam um alto risco de perder dinheiro rapidamente devido à alavancagem. 84% das contas de investidores de retalhos perdem dinheiro quando negociam derivativos__\", \"**🔴 Trump no Radar**\\n    \\n**Trump diz que a UE é brutal nos preços dos medicamentos; É \\\"mais suja\\\" do que a China**\\n  \\n  __Via Terminal Macro Trader / ActivTrades\\n\\n...\\nDisclaimer ActivTrades Brasil: Os derivativos financeiros são instrumentos complexos e apresentam um alto risco de perder dinheiro rapidamente devido à alavancagem. 84% das contas de investidores de retalhos perdem dinheiro quando negociam derivativos__\", \"**🔴 Trump no Radar**\\n    \\n**Trump diz que conversou sobre a receita das tarifa e o Medicare (Plano de Saúde) com o Presidente da Câmara, Mike Johnson**\\n  \\n  __Via Terminal Macro Trader / ActivTrades\\n\\n...\\nDisclaimer ActivTrades Brasil: Os derivativos financeiros são instrumentos complexos e apresentam um alto risco de perder dinheiro rapidamente devido à alavancagem. 84% das contas de investidores de retalhos perdem dinheiro quando negociam derivativos__\", \"**🟡  Geopolítica no Radar**\\n    \\n**Ministros de 7 Países Europeus Concordam em Apoiar Forças Armadas da Ucrânia**\\n  \\n▶️ Os ministros das Relações Exteriores da França, Alemanha, Itália, Polônia, Espanha, Reino Unido e União Europeia emitiram um comunicado conjunto discutindo como fortalecer os esforços europeus para apoiar a Ucrânia.\\n \\n▶️ Eles concordaram em trabalhar com o governo ucraniano para reforçar as forças armadas do país, repor munições e equipamentos.\\n  \\n  __Via Terminal Macro Trader / ActivTrades\\n\\n...\\nDisclaimer ActivTrades Brasil: Os derivativos financeiros são instrumentos complexos e apresentam um alto risco de perder dinheiro rapidamente devido à alavancagem. 84% das contas de investidores de retalhos perdem dinheiro quando negociam derivativos__\", \"**🔴 Trump no Radar**\\n    \\n**Trump diz que os preços dos medicamentos podem cair de 59% até 90%**\\n  \\n  __Via Terminal Macro Trader / ActivTrades\\n\\n...\\nDisclaimer ActivTrades Brasil: Os derivativos financeiros são instrumentos complexos e apresentam um alto risco de perder dinheiro rapidamente devido à alavancagem. 84% das contas de investidores de retalhos perdem dinheiro quando negociam derivativos__\", \"**🔴 Trump no Radar**\\n    \\n**Trump diz que se reuniu com o líder de uma das empresas que fabricam medicamentos de perda de pesos e eles não conseguiram explicar porque eram tão caros**\\n  \\n  __Via Terminal Macro Trader / ActivTrades\\n\\n...\\nDisclaimer ActivTrades Brasil: Os derivativos financeiros são instrumentos complexos e apresentam um alto risco de perder dinheiro rapidamente devido à alavancagem. 84% das contas de investidores de retalhos perdem dinheiro quando negociam derivativos__\", \"**🔴 Trump no Radar**\\n    \\n**Trump diz que União Europeia é \\\"brutal\\\" no preço dos medicamentos**\\n  \\n  __Via Terminal Macro Trader / ActivTrades\\n\\n...\\nDisclaimer ActivTrades Brasil: Os derivativos financeiros são instrumentos complexos e apresentam um alto risco de perder dinheiro rapidamente devido à alavancagem. 84% das contas de investidores de retalhos perdem dinheiro quando negociam derivativos__\", \"**🔴 Trump no Radar**\\n\\n**Trump diz que não tolerará a busca por lucros das grandes farmacêuticas**\\n\\n▶️ \\\"O lobby do setor de farmacêuticos é um dos mais fortes nos Estados Unidos\\\".\\n   \\n__Via Terminal Macro Trader / ActivTrades\\n\\n...\\nDisclaimer ActivTrades Brasil: Os derivativos financeiros são instrumentos complexos e apresentam um alto risco de perder dinheiro rapidamente devido à alavancagem. 84% das contas de investidores de retalhos perdem dinheiro quando negociam derivativos__\", \"**🔴 Trump no Radar**\\n    \\n**Trump diz que sua viagem para o oriente médio será \\\"histórica\\\"**\\n  \\n  __Via Terminal Macro Trader / ActivTrades\\n\\n...\\nDisclaimer ActivTrades Brasil: Os derivativos financeiros são instrumentos complexos e apresentam um alto risco de perder dinheiro rapidamente devido à alavancagem. 84% das contas de investidores de retalhos perdem dinheiro quando negociam derivativos__\", \"**🔴 Trump no Radar**\\n    \\n**Trump: \\\" A China concordou em parar o fluxo de fentanil, existe um grande incentivo para que parem; Eles irão cumprir com a palavra\\\"**\\n  \\n  __Via Terminal Macro Trader / ActivTrades\\n\\n...\\nDisclaimer ActivTrades Brasil: Os derivativos financeiros são instrumentos complexos e apresentam um alto risco de perder dinheiro rapidamente devido à alavancagem. 84% das contas de investidores de retalhos perdem dinheiro quando negociam derivativos__\", \"**🔴  Trump no Radar**\\n    \\n**Trump diz que a China concordou em suspender ou remover barreiras não-tarifárias**\\n  \\n  __Via Terminal Macro Trader / ActivTrades\\n\\n...\\nDisclaimer ActivTrades Brasil: Os derivativos financeiros são instrumentos complexos e apresentam um alto risco de perder dinheiro rapidamente devido à alavancagem. 84% das contas de investidores de retalhos perdem dinheiro quando negociam derivativos__\", \"**Apple no Radar**\\n    \\n**Trump afirma que conversou com Tim Cook e que Apple vai investir mais nos Estados Unidos**\\n  \\n▶️ O presidente dos EUA, Donald Trump, informou que conversou nesta manhã com o CEO da Apple, Tim Cook, e afirmou que a empresa vai fazer novos investimentos nos Estados Unidos\\n  \\n  __Via Terminal Macro Trader / ActivTrades\\n\\n...\\nDisclaimer ActivTrades Brasil: Os derivativos financeiros são instrumentos complexos e apresentam um alto risco de perder dinheiro rapidamente devido à alavancagem. 84% das contas de investidores de retalhos perdem dinheiro quando negociam derivativos__\", \"**🔴  Trump no Radar**\\n    \\n**Trump diz que a abertura da China pode levar algum tempo para \\\"documentar\\\"**\\n  \\n  __Via Terminal Macro Trader / ActivTrades\\n\\n...\\nDisclaimer ActivTrades Brasil: Os derivativos financeiros são instrumentos complexos e apresentam um alto risco de perder dinheiro rapidamente devido à alavancagem. 84% das contas de investidores de retalhos perdem dinheiro quando negociam derivativos__\", \"**🔴  Trump no Radar**\\n    \\n**Trump: \\\"A melhor parte do acordo foi que a China está concordando em abrir os mercados para nós\\\"**\\n  \\n  __Via Terminal Macro Trader / ActivTrades\\n\\n...\\nDisclaimer ActivTrades Brasil: Os derivativos financeiros são instrumentos complexos e apresentam um alto risco de perder dinheiro rapidamente devido à alavancagem. 84% das contas de investidores de retalhos perdem dinheiro quando negociam derivativos__\", \"**🔴  Trump no Radar**\\n    \\n**Trump diz que pode conversar com Xi no final da semana**\\n  \\n  __Via Terminal Macro Trader / ActivTrades\\n\\n...\\nDisclaimer ActivTrades Brasil: Os derivativos financeiros são instrumentos complexos e apresentam um alto risco de perder dinheiro rapidamente devido à alavancagem. 84% das contas de investidores de retalhos perdem dinheiro quando negociam derivativos__\", \"**🔴  Trump no Radar**\\n    \\n**Trump diz que não quer \\\"ferir\\\" a China**\\n  \\n  __Via Terminal Macro Trader / ActivTrades\\n\\n...\\nDisclaimer ActivTrades Brasil: Os derivativos financeiros são instrumentos complexos e apresentam um alto risco de perder dinheiro rapidamente devido à alavancagem. 84% das contas de investidores de retalhos perdem dinheiro quando negociam derivativos__\", \"**🔴  Trump no Radar**\\n    \\n**Trump diz que o acordo com a China não cobre carros, aço, alumínio e farma**\\n  \\n  __Via Terminal Macro Trader / ActivTrades\\n\\n...\\nDisclaimer ActivTrades Brasil: Os derivativos financeiros são instrumentos complexos e apresentam um alto risco de perder dinheiro rapidamente devido à alavancagem. 84% das contas de investidores de retalhos perdem dinheiro quando negociam derivativos__\", \"**🔴  Trump no Radar**\\n    \\n**Trump diz que fizeram um \\\"reset total\\\" com a China**\\n  \\n  __Via Terminal Macro Trader / ActivTrades\\n\\n...\\nDisclaimer ActivTrades Brasil: Os derivativos financeiros são instrumentos complexos e apresentam um alto risco de perder dinheiro rapidamente devido à alavancagem. 84% das contas de investidores de retalhos perdem dinheiro quando negociam derivativos__\", \"**🔴  Trump no Radar**\\n    \\n**Trump diz que o comércio com os Estados Unidos foi um dos motivos usados na mediação para o conflito Índia-Paquistão**\\n  \\n  __Via Terminal Macro Trader / ActivTrades\\n\\n...\\nDisclaimer ActivTrades Brasil: Os derivativos financeiros são instrumentos complexos e apresentam um alto risco de perder dinheiro rapidamente devido à alavancagem. 84% das contas de investidores de retalhos perdem dinheiro quando negociam derivativos__\", \"**🔴 EUA no Radar**\\n    \\n**Assista Ao Vivo: Começa a conferência de imprensa com o Presidente dos Estados Unidos, Donald Trump**\\n  \\nhttps://youtu.be/LvGTxlabS3Y\\n  \\n  __Via Terminal Macro Trader / ActivTrades\\n\\n...\\nDisclaimer ActivTrades Brasil: Os derivativos financeiros são instrumentos complexos e apresentam um alto risco de perder dinheiro rapidamente devido à alavancagem. 84% das contas de investidores de retalhos perdem dinheiro quando negociam derivativos__\", \"**China no Radar**\\n    \\n**Ministro Wang Yi se reúne com chanceler da Guiana em Pequim, diz Ministério das Relações Exteriores da China**\\n  \\n  __Via Terminal Macro Trader / ActivTrades\\n\\n...\\nDisclaimer ActivTrades Brasil: Os derivativos financeiros são instrumentos complexos e apresentam um alto risco de perder dinheiro rapidamente devido à alavancagem. 84% das contas de investidores de retalhos perdem dinheiro quando negociam derivativos__\", \"**🟡 EUA no Radar**\\n    \\n**Abertura dos mercados à vista nos Estados Unidos, Todas As Big Techs em Alta, Amazon Lidera em +7,07%**\\n  \\n🟢 Apple (AAPL): 207,49 (+4,51%)\\n🟢 Microsoft (MSFT): 442,11 (+0,77%)\\n🟢 Google (GOOG): 159,11 (+3,06%)\\n🟢 Amazon (AMZN): 206,70 (+7,07%)\\n🟢 Meta (META): 624,17 (+5,35%)\\n🟢 Tesla (TSLA): 315,11 (+5,65%)\\n🟢 Nvidia (NVDA): 121,50 (+4,16%)\\n🟢 Broadcom (AVGO): 217,43 (+4,43%)\\n  \\n  __Via Terminal Macro Trader / ActivTrades\\n\\n...\\nDisclaimer ActivTrades Brasil: Os derivativos financeiros são instrumentos complexos e apresentam um alto risco de perder dinheiro rapidamente devido à alavancagem. 84% das contas de investidores de retalhos perdem dinheiro quando negociam derivativos__\", \"**EUA no Radar**\\n\\n**Abertura dos Mercados nos Estados Unidos, S&P500, Nasdaq e Dow Jones devolvendo parte dos ganhos, Russell sustenta +4,16%**\\n \\n__Via Terminal Macro Trader / ActivTrades\\n\\n...\\nDisclaimer ActivTrades Brasil: Os derivativos financeiros são instrumentos complexos e apresentam um alto risco de perder dinheiro rapidamente devido à alavancagem. 84% das contas de investidores de retalhos perdem dinheiro quando negociam derivativos__\", \"**EUA x Tensão no Oriente Médio no Radar**\\n    \\n**Após reunião com enviado da Casa Branca, Netanyahu envia negociadores israelenses para Doha retomar diálogo sobre reféns e cessar-fogo**\\n  \\n  __Via Terminal Macro Trader / ActivTrades\\n\\n...\\nDisclaimer ActivTrades Brasil: Os derivativos financeiros são instrumentos complexos e apresentam um alto risco de perder dinheiro rapidamente devido à alavancagem. 84% das contas de investidores de retalhos perdem dinheiro quando negociam derivativos__\", \"**EUA no Radar**\\n    \\n**S&P500 abre em alta de 3% e Nasdaq +3.8% após acordo EUA-China**\\n  \\n  __Via Terminal Macro Trader / ActivTrades\\n\\n...\\nDisclaimer ActivTrades Brasil: Os derivativos financeiros são instrumentos complexos e apresentam um alto risco de perder dinheiro rapidamente devido à alavancagem. 84% das contas de investidores de retalhos perdem dinheiro quando negociam derivativos__\", \"**Assista ao vivo: Presidente Trump dos EUA realiza coletiva de imprensa com o Secretário da Saúde RFK Jr.**\\n  \\nhttps://www.youtube.com/watch?v=LvGTxlabS3Y\\n  \\n  __Via Terminal Macro Trader / ActivTrades\\n\\n...\\nDisclaimer ActivTrades Brasil: Os derivativos financeiros são instrumentos complexos e apresentam um alto risco de perder dinheiro rapidamente devido à alavancagem. 84% das contas de investidores de retalhos perdem dinheiro quando negociam derivativos__\", \"**México no Radar**\\n    \\n**Ministro da Fazenda do México afirma ter 'boa confiança' nas projeções de crescimento e equilíbrio fiscal para 2025**\\n  \\n  __Via Terminal Macro Trader / ActivTrades\\n\\n...\\nDisclaimer ActivTrades Brasil: Os derivativos financeiros são instrumentos complexos e apresentam um alto risco de perder dinheiro rapidamente devido à alavancagem. 84% das contas de investidores de retalhos perdem dinheiro quando negociam derivativos__\", \"**Petróleo no Radar**\\n    \\n**CEO da Aramco vê a demanda por petróleo \\\"estável e crescente\\\" em 2025**\\n  \\n  __Via Terminal Macro Trader / ActivTrades\\n\\n...\\nDisclaimer ActivTrades Brasil: Os derivativos financeiros são instrumentos complexos e apresentam um alto risco de perder dinheiro rapidamente devido à alavancagem. 84% das contas de investidores de retalhos perdem dinheiro quando negociam derivativos__\", \"**🟡 Brasil no Radar**\\n    \\n**Abertura dos mercados à vista no Brasil: Principais Ações, somente Petrobras, Vale e WEG no positivo**\\n  \\n🟢 Vale (VALE3): 55,00 (+3,87%)\\n🟢 Petrobras (PETR4): 32,03 (+3,62%)\\n🔴 Itaú (ITUB4): 37,08 (−0,40%)\\n🔴 Banco do Brasil (BBAS3): 29,35 (−0,61%)\\n🔴 Eletrobras (ELET3): 42,94 (−1,24%)\\n🟢 WEG (WEGE3): 42,50 (+1,70%)\\n🔴 Sabesp (SBSP3): 114,40 (−2,16%)\\n🔴 Bradesco (BBDC4): 15,02 (−0,66%)\\n🔴 Ambev (ABEV3): 14,23 (−0,35%)\\n🔴 B3 (B3SA3): 14,44 (−0,62%)\\n🔴 Itaúsa (ITSA4): 11,02 (−0,27%)\\n🔴 Embraer (EMBR3): 67,16 (−0,80%)\\n  \\n  __Via Terminal Macro Trader / ActivTrades\\n\\n...\\nDisclaimer ActivTrades Brasil: Os derivativos financeiros são instrumentos complexos e apresentam um alto risco de perder dinheiro rapidamente devido à alavancagem. 84% das contas de investidores de retalhos perdem dinheiro quando negociam derivativos__\", \"**No Brasil, Ibovespa Futuro segue caindo trabalhando abaixo da região dos 140 mil pontos**\\n  \\n  __Via Terminal Macro Trader / ActivTrades\\n\\n...\\nDisclaimer ActivTrades Brasil: Os derivativos financeiros são instrumentos complexos e apresentam um alto risco de perder dinheiro rapidamente devido à alavancagem. 84% das contas de investidores de retalhos perdem dinheiro quando negociam derivativos__\", \"**BoE no Radar**\\n    \\n**Mann do Banco da Inglaterra diz vai avaliar a restritividade da política em tempo real é desafiador, com várias metodologias que têm pontos fortes e fracos**\\n  \\n  __Via Terminal Macro Trader / ActivTrades\\n\\n...\\nDisclaimer ActivTrades Brasil: Os derivativos financeiros são instrumentos complexos e apresentam um alto risco de perder dinheiro rapidamente devido à alavancagem. 84% das contas de investidores de retalhos perdem dinheiro quando negociam derivativos__\", \"**🟡 EUA no Radar**\\n    \\n**Casa Branca diz que os medicamentos que ajudam a reduzir os níveis de açúcar no sangue e a perda de peso serão foco na redução dos preços**\\n  \\n  __Via Terminal Macro Trader / ActivTrades\\n\\n...\\nDisclaimer ActivTrades Brasil: Os derivativos financeiros são instrumentos complexos e apresentam um alto risco de perder dinheiro rapidamente devido à alavancagem. 84% das contas de investidores de retalhos perdem dinheiro quando negociam derivativos__\", \"**🔴 Comércio no Radar**\\n\\n**Oficiais da Casa Branca dizem que o departamento de comércio irá tomar medidas contra \\\"irracional e discriminatório\\\" aumento nos preços de medicamentos vindos de países estrangeiros**\\n \\n__Via Terminal Macro Trader / ActivTrades\\n\\n...\\nDisclaimer ActivTrades Brasil: Os derivativos financeiros são instrumentos complexos e apresentam um alto risco de perder dinheiro rapidamente devido à alavancagem. 84% das contas de investidores de retalhos perdem dinheiro quando negociam derivativos__\", \"**🔴EUA no Radar**\\n    \\n**Casa Branca diz que se não houver redução adequada nos preços da indústria de medicamentos, o Secrétario da Saúde irá impor regras que favorecerão os interesses da nação; Departamento de Comércio está considerando restrição nas exportações e a FDA irá considerar importações**\\n  \\n  __Via Terminal Macro Trader / ActivTrades\\n\\n...\\nDisclaimer ActivTrades Brasil: Os derivativos financeiros são instrumentos complexos e apresentam um alto risco de perder dinheiro rapidamente devido à alavancagem. 84% das contas de investidores de retalhos perdem dinheiro quando negociam derivativos__\", \"**Petróleo no Radar**\\n    \\n**A Saudi Aramco afirma que, apesar da recente volatilidade do mercado, os fundamentos do mercado de petróleo permanecem sólidos**\\n  \\n  __Via Terminal Macro Trader / ActivTrades\\n\\n...\\nDisclaimer ActivTrades Brasil: Os derivativos financeiros são instrumentos complexos e apresentam um alto risco de perder dinheiro rapidamente devido à alavancagem. 84% das contas de investidores de retalhos perdem dinheiro quando negociam derivativos__\", \"**🟡 O que aconteceu nos EUA: Relação com a China melhor do que as expectativas, corte nos preços de medicamentos e Apple aumentando preços(2/2)**\\n \\n**▶️ Eli Lilly Afirma Superioridade de Zepbound em Estudo Contra Novo Nordisk**\\nDados de um estudo comparativo mostram que o medicamento Zepbound, da Eli Lilly, supera o Wegovy, da Novo Nordisk, em cinco metas de perda de peso, reforçando sua posição no mercado de medicamentos para obesidade, estimado em mais de US$ 150 bilhões anuais até a próxima década.\\n \\n**▶️ Israel Expressa Preocupação com Ausência de Trump em Sua Agenda no Oriente Médio**\\nA decisão de Trump de ignorar Israel em sua viagem ao Oriente Médio aumentou dúvidas sobre a prioridade de Washington ao país, apesar do acordo para libertar o refém Edan Alexander após negociações entre EUA e Hamas.\\n \\n**🟡 Apple Considera Aumento de Preços de iPhones, Evitando Vincular a Tarifas dos EUA**\\nSegundo fontes do Wall Street Journal, a Apple pondera elevar os preços de sua linha de iPhones no outono, mas busca evitar associar os aumentos às tarifas dos EUA sobre importações chinesas. As ações da empresa subiram 7% com o mercado reagindo positivamente à redução temporária de tarifas entre EUA e China.\\n \\n**▶️ Google Paga US$ 1,375 Bilhão para Encerrar Processo no Texas por Violação de Privacidade**\\nA gigante de tecnologia Google acertou um acordo de princípio com o estado do Texas para encerrar dois processos relacionados a violações das leis de proteção ao consumidor.\\n \\n**▶️ OpenAI e Microsoft Renegociam Parceria Bilionária para Permitir IPO**\\nAs empresas estão revisando os termos de sua parceria, focando na participação de capital da Microsoft na nova estrutura for-profit da OpenAI em troca de acesso a modelos de IA avançados.\\n \\n**🔴 Trump disse que irá assinar ordem executiva sobre o preço dos medicamentos a partir das 10h (BRT).**\\n \\n**🔴 EUA e China Acordam Redução Temporária de Tarifas em Acordo que Supera Expectativas**\\nOs dois países reduzirão temporariamente tarifas recíprocas: os EUA cortarão tarifas sobre produtos chineses de 145% para 30%, enquanto a China reduzirá as tarifas sobre produtos americanos de 125% para 10%. O acordo é válido por 90 dias.\\n    \\n__Via Terminal Macro Trader / ActivTrades\\n\\n...\\nDisclaimer ActivTrades Brasil: Os derivativos financeiros são instrumentos complexos e apresentam um alto risco de perder dinheiro rapidamente devido à alavancagem. 84% das contas de investidores de retalhos perdem dinheiro quando negociam derivativos__\", \"**🟡 O que aconteceu nos EUA: Relação com a China melhor do que as expectativas, corte nos preços de medicamentos e Apple aumentando preços(1/2)**\\n**      \\n▶️ Trump Anuncia Corte de até 59% nos Preços de Medicamentos nos EUA**\\nO presidente Donald Trump planeja ordenar reduções nos preços de medicamentos, garantindo que americanos paguem o mesmo que países com os menores preços. Ações de empresas farmacêuticas caíram antes da abertura do mercado.\\n      \\n__Via Terminal Macro Trader / ActivTrades\\n\\n...\\nDisclaimer ActivTrades Brasil: Os derivativos financeiros são instrumentos complexos e apresentam um alto risco de perder dinheiro rapidamente devido à alavancagem. 84% das contas de investidores de retalhos perdem dinheiro quando negociam derivativos__\", \"**🟡 O que aconteceu nos EUA: Relação com a China melhor do que as expectativas, corte nos preços de medicamentos e Apple aumentando preços(2/2)**\\n \\n**▶️ Eli Lilly Afirma Superioridade de Zepbound em Estudo Contra Novo Nordisk**\\nDados de um estudo comparativo mostram que o medicamento Zepbound, da Eli Lilly, supera o Wegovy, da Novo Nordisk, em cinco metas de perda de peso, reforçando sua posição no mercado de medicamentos para obesidade, estimado em mais de US$ 150 bilhões anuais até a próxima década.\\n \\n**▶️ Israel Expressa Preocupação com Ausência de Trump em Sua Agenda no Oriente Médio**\\nA decisão de Trump de ignorar Israel em sua viagem ao Oriente Médio aumentou dúvidas sobre a prioridade de Washington ao país, apesar do acordo para libertar o refém Edan Alexander após negociações entre EUA e Hamas.\\n \\n**🟡 Apple Considera Aumento de Preços de iPhones, Evitando Vincular a Tarifas dos EUA**\\nSegundo fontes do Wall Street Journal, a Apple pondera elevar os preços de sua linha de iPhones no outono, mas busca evitar associar os aumentos às tarifas dos EUA sobre importações chinesas. As ações da empresa subiram 7% com o mercado reagindo positivamente à redução temporária de tarifas entre EUA e China.\\n** \\n▶️ Google Paga US$ 1,375 Bilhão para Encerrar Processo no Texas por Violação de Privacidade**\\nA gigante de tecnologia Google acertou um acordo de princípio com o estado do Texas para encerrar dois processos relacionados a violações das leis de proteção ao consumidor.\\n \\n**▶️ OpenAI e Microsoft Renegociam Parceria Bilionária para Permitir IPO**\\nAs empresas estão revisando os termos de sua parceria, focando na participação de capital da Microsoft na nova estrutura for-profit da OpenAI em troca de acesso a modelos de IA avançados.\\n \\n**🔴 Trump disse que irá assinar ordem executiva sobre o preço dos medicamentos a partir das 10h (BRT).\\n \\n🔴 EUA e China Acordam Redução Temporária de Tarifas em Acordo que Supera Expectativas\\n**Os dois países reduzirão temporariamente tarifas recíprocas: os EUA cortarão tarifas sobre produtos chineses de 145% para 30%, enquanto a China reduzirá as tarifas sobre produtos americanos de 125% para 10%. O acordo é válido por 90 dias.\\n    \\n__Via Terminal Macro Trader / ActivTrades\\n\\n...\\nDisclaimer ActivTrades Brasil: Os derivativos financeiros são instrumentos complexos e apresentam um alto risco de perder dinheiro rapidamente devido à alavancagem. 84% das contas de investidores de retalhos perdem dinheiro quando negociam derivativos__\", \"**🟡 O que aconteceu nos EUA: Relação com a China melhor do que as expectativas, corte nos preços de medicamentos e Apple aumentando preços(1/2)**\\n      \\n**▶️ Trump Anuncia Corte de até 59% nos Preços de Medicamentos nos EUA**\\nO presidente Donald Trump planeja ordenar reduções nos preços de medicamentos, garantindo que americanos paguem o mesmo que países com os menores preços. Ações de empresas farmacêuticas caíram antes da abertura do mercado.\\n      \\n__Via Terminal Macro Trader / ActivTrades\\n\\n...\\nDisclaimer ActivTrades Brasil: Os derivativos financeiros são instrumentos complexos e apresentam um alto risco de perder dinheiro rapidamente devido à alavancagem. 84% das contas de investidores de retalhos perdem dinheiro quando negociam derivativos__\", \"**Tesla no Radar**\\n    \\n**O CEO da Tesla, Musk, foi convidado para o fórum de investimentos saudita-americano em Riad, paralelamente à visita de Trump**\\n  \\n  __Via Terminal Macro Trader / ActivTrades\\n\\n...\\nDisclaimer ActivTrades Brasil: Os derivativos financeiros são instrumentos complexos e apresentam um alto risco de perder dinheiro rapidamente devido à alavancagem. 84% das contas de investidores de retalhos perdem dinheiro quando negociam derivativos__\", \"**🟡 Semicondutores no Radar**\\n    \\n**Acordo com a China pode ajudar os Estados Unidos a ter mais permissões para minerais terras raras da China, segundo a Reuters citando fontes**\\n  \\n  __Via Terminal Macro Trader / ActivTrades\\n\\n...\\nDisclaimer ActivTrades Brasil: Os derivativos financeiros são instrumentos complexos e apresentam um alto risco de perder dinheiro rapidamente devido à alavancagem. 84% das contas de investidores de retalhos perdem dinheiro quando negociam derivativos__\", \"**Rússia no Radar**\\n    \\n**O Kremlin afirma que a proposta do presidente russo Putin para negociações com o objetivo de resolver a crise na Ucrânia foi recebida com compreensão e apoio por muitos líderes; o Kremlin diz que leva a sério a busca por maneiras de alcançar uma solução pacífica de longo prazo**\\n  \\n  __Via Terminal Macro Trader / ActivTrades\\n\\n...\\nDisclaimer ActivTrades Brasil: Os derivativos financeiros são instrumentos complexos e apresentam um alto risco de perder dinheiro rapidamente devido à alavancagem. 84% das contas de investidores de retalhos perdem dinheiro quando negociam derivativos__\", \"**🟡 Geopolítica no Radar**\\n    \\n**Kremlin sobre ameaças de novas sanções, diz que é inaceitável dos líderes Europeus um \\\"ultimato\\\" para conversar com a Rússia**\\n  \\n  __Via Terminal Macro Trader / ActivTrades\\n\\n...\\nDisclaimer ActivTrades Brasil: Os derivativos financeiros são instrumentos complexos e apresentam um alto risco de perder dinheiro rapidamente devido à alavancagem. 84% das contas de investidores de retalhos perdem dinheiro quando negociam derivativos__\", \"**🟡 Brasil no Radar**\\n    \\n**Ministro da Fazenda, Haddad diz que o Presidente Lula não irá escolher entre EUA ou China**\\n  \\n  __Via Terminal Macro Trader / ActivTrades\\n\\n...\\nDisclaimer ActivTrades Brasil: Os derivativos financeiros são instrumentos complexos e apresentam um alto risco de perder dinheiro rapidamente devido à alavancagem. 84% das contas de investidores de retalhos perdem dinheiro quando negociam derivativos__\", \"**🟡 Brasil no Radar**\\n    \\n**Haddad diz que a reforma do IR será seu \\\"Legado como Ministro da Fazenda\\\"**\\n  \\n  __Via Terminal Macro Trader / ActivTrades\\n\\n...\\nDisclaimer ActivTrades Brasil: Os derivativos financeiros são instrumentos complexos e apresentam um alto risco de perder dinheiro rapidamente devido à alavancagem. 84% das contas de investidores de retalhos perdem dinheiro quando negociam derivativos__\", \"**Brasil no Radar**\\n    \\n**Ministro da Fazenda do Brasil, Haddad, diz que os Estados Unidos deveriam olhar mais \\\"generosamente\\\" para a América Latina**\\n  \\n  __Via Terminal Macro Trader / ActivTrades\\n\\n...\\nDisclaimer ActivTrades Brasil: Os derivativos financeiros são instrumentos complexos e apresentam um alto risco de perder dinheiro rapidamente devido à alavancagem. 84% das contas de investidores de retalhos perdem dinheiro quando negociam derivativos__\", \"**🟡 Brasil no Radar**\\n    \\n**Haddad diz que Lula irá anunciar a nova política para data centers após chegar da viagem**\\n  \\n  __Via Terminal Macro Trader / ActivTrades\\n\\n...\\nDisclaimer ActivTrades Brasil: Os derivativos financeiros são instrumentos complexos e apresentam um alto risco de perder dinheiro rapidamente devido à alavancagem. 84% das contas de investidores de retalhos perdem dinheiro quando negociam derivativos__\", \"**Abertura do Mercado Futuro da B3: Ibovespa Futuro abriu com gap de alta na sessão subindo mais de 1%; Já o Dólar Futuro abriu em alta também subindo 0.40%**\\n  \\n  __Via Terminal Macro Trader / ActivTrades\\n\\n...\\nDisclaimer ActivTrades Brasil: Os derivativos financeiros são instrumentos complexos e apresentam um alto risco de perder dinheiro rapidamente devido à alavancagem. 84% das contas de investidores de retalhos perdem dinheiro quando negociam derivativos__\", \"Snapshot da Manhã\", \"**🔴 Em 5 minutos abertura das negociações na B3**\\n  \\n▶️ Os mercados internacionais operam com forte entusiasmo nesta segunda-feira após o anúncio de um acordo entre Estados Unidos e China para suspender a maioria das tarifas bilaterais por um período de 90 dias.\\n \\n▶️ Em Wall Street, os índices futuros registram fortes altas, acompanhados por um salto nos preços do petróleo, enquanto os contratos futuros do ouro recuam mais de 3% em reação à menor aversão ao risco.\\n \\n▶️ Nos Estados Unidos, o presidente Donald Trump anunciou ainda uma ordem executiva para reduzir os preços de medicamentos e produtos farmacêuticos em até 80%, o que foi classificado como uma das medidas mais relevantes da história do setor no país.\\n \\n▶️ No Brasil, o Ibovespa deve acompanhar o rali global. O ETF EWZ, principal fundo brasileiro negociado em Nova York, subia 1,60% no pré-mercado.\\n \\n▶️ Além do ambiente externo favorável, investidores reagem positivamente ao anúncio do governo Lula de que grandes empresas chinesas planejam investir cerca de R$ 27 bilhões no Brasil, em setores como delivery, fast-food e semicondutores.\\n \\n▶️ Por outro lado, a valorização do dólar e dos rendimentos dos Treasuries pode pressionar o real e a curva de juros futuros.\\n \\n▶️ Também está no radar do mercado a criação de um novo programa de subsídio ao gás de cozinha para famílias de baixa renda, estimado em R$ 5 bilhões anuais, a ser operacionalizado via voucher da Caixa Econômica Federal.\\n  \\n  __Via Terminal Macro Trader / ActivTrades\\n\\n...\\nDisclaimer ActivTrades Brasil: Os derivativos financeiros são instrumentos complexos e apresentam um alto risco de perder dinheiro rapidamente devido à alavancagem. 84% das contas de investidores de retalhos perdem dinheiro quando negociam derivativos__\", \"**🔴 Tarifas no Radar**\\n    \\n**Secretário do Tesouro dos Estados Unidos, Bessent diz que é \\\"implausível\\\" que as tarifas sobre a China caiam para abaixo de 10%**\\n  \\n  __Via Terminal Macro Trader / ActivTrades\\n\\n...\\nDisclaimer ActivTrades Brasil: Os derivativos financeiros são instrumentos complexos e apresentam um alto risco de perder dinheiro rapidamente devido à alavancagem. 84% das contas de investidores de retalhos perdem dinheiro quando negociam derivativos__\", \"**Ucrânia x Rússia no Radar**\\n    \\n**Ministro das Relações Exteriores da Ucrânia diz que a Rússia está 'ignorando completamente' a oferta de cessar-fogo de 30 dias e discutiu com aliados novos pacotes de assistência à defesa**\\n  \\n  __Via Terminal Macro Trader / ActivTrades\\n\\n...\\nDisclaimer ActivTrades Brasil: Os derivativos financeiros são instrumentos complexos e apresentam um alto risco de perder dinheiro rapidamente devido à alavancagem. 84% das contas de investidores de retalhos perdem dinheiro quando negociam derivativos__\", \"**🟡 O que aconteceu no Brasil: Brasil-China, Resultados e Petróleo(2/2)**\\n      \\n**▶️ BTG Pactual Registra Lucro de R$ 3,37 Bilhões no 1º Trimestre**\\n\\nO banco brasileiro aumentou seu lucro líquido ajustado em 16,6% no primeiro trimestre, impulsionado pela expansão de 27% na carteira de crédito e redução de despesas. Apesar do desempenho sólido, o BTG citou um ambiente econômico desafiador marcado por volatilidade global.\\n** \\n▶️ Inflação Anual do Brasil Acelera para 5,53% em Abril**\\n\\nA inflação anual subiu para 5,53%, acima da meta de 3% do Banco Central, mesmo após a elevação da taxa Selic para o nível mais alto em quase 20 anos. A inflação mensal desacelerou para 0,43%, ante 0,56% em março.\\n** \\n▶️ Investimentos Estrangeiros no Brasil Totalizam Mais de R$ 9 Bilhões**\\n\\nEmpresas como Great Wall Motor (R$ 6 bilhões), Baiyin Nonferrous Group (R$ 2,4 bilhões) e Longsys (R$ 650 milhões) anunciaram grandes investimentos no país, focados em setores como automotivo, mineração e semicondutores.\\n \\n**▶️ Exportações de Petróleo Venezuelano Disfarçadas como Petróleo Brasileiro**\\n \\nOs comerciantes renomearam mais de US$ 1 bilhão em remessas de petróleo venezuelano para a China como petróleo bruto brasileiro no ano passado, de acordo com duas empresas de rastreamento de petroleiros, documentos da empresa e quatro comerciantes, ajudando os compradores a cortar custos de logística e contornar as sanções dos EUA, informou a Reuters.\\n \\n**▶️ Governo Lança Programa de Subsídio ao Gás para Famílias de Baixa Renda**\\n\\nO novo programa demandará R$ 5 bilhões anuais do Orçamento, com recursos repassados via voucher da Caixa Econômica Federal para auxiliar famílias de baixa renda na compra de gás, segundo fontes do Folha.\\n    \\n__Via Terminal Macro Trader / ActivTrades\\n\\n...\\nDisclaimer ActivTrades Brasil: Os derivativos financeiros são instrumentos complexos e apresentam um alto risco de perder dinheiro rapidamente devido à alavancagem. 84% das contas de investidores de retalhos perdem dinheiro quando negociam derivativos__\", \"**🟡 O que aconteceu no Brasil: Brasil-China, Resultados e Petróleo(1/2)**\\n      \\n**▶️ Lula Enfatiza Aliança Irreversível com a China e Critica Tarifas dos EUA**\\n\\nO presidente Lula destacou a importância das relações Brasil-China, afirmando que a parceria é essencial para o crescimento econômico. Ele defendeu o multilateralismo e criticou as tarifas impostas pelos EUA, reiterando que a China é o maior parceiro comercial do Brasil.\\n      \\n__Via Terminal Macro Trader / ActivTrades\\n\\n...\\nDisclaimer ActivTrades Brasil: Os derivativos financeiros são instrumentos complexos e apresentam um alto risco de perder dinheiro rapidamente devido à alavancagem. 84% das contas de investidores de retalhos perdem dinheiro quando negociam derivativos__\", \"**Petróleo no Radar**\\n    \\n**O Goldman Sachs afirma que ainda espera que os preços do Brent/WTI caiam em média US$ 60/56 por barril no restante de 2025 e US$ 56/52 por barril, respectivamente, em 2026**\\n  \\n  __Via Terminal Macro Trader / ActivTrades\\n\\n...\\nDisclaimer ActivTrades Brasil: Os derivativos financeiros são instrumentos complexos e apresentam um alto risco de perder dinheiro rapidamente devido à alavancagem. 84% das contas de investidores de retalhos perdem dinheiro quando negociam derivativos__\", \"Estamos no ar em um novo episódio do Markets Warm-up, com Eduardo Boechat. Acesse lá:\\n\\nhttps://www.youtube.com/live/CvNMlu06YPM?si=iGRHRq_y0s-HWyCQ\", \"**Assista Ao Vivo (9:00) - Entrevista do Ministro Fernando Haddad ao UOL**\\n  \\nhttps://www.youtube.com/watch?v=GKYH1bCUk2M\\n  \\n  __Via Terminal Macro Trader / ActivTrades\\n\\n...\\nDisclaimer ActivTrades Brasil: Os derivativos financeiros são instrumentos complexos e apresentam um alto risco de perder dinheiro rapidamente devido à alavancagem. 84% das contas de investidores de retalhos perdem dinheiro quando negociam derivativos__\", \"**Banco Central Brasileiro divulga o Boletim Focus**\\n  \\nAcesse o link do relatório completo: \\n \\nhttps://www.bcb.gov.br/content/focus/focus/R20250509.pdf\\n  \\n  __Via Terminal Macro Trader / ActivTrades\\n\\n...\\nDisclaimer ActivTrades Brasil: Os derivativos financeiros são instrumentos complexos e apresentam um alto risco de perder dinheiro rapidamente devido à alavancagem. 84% das contas de investidores de retalhos perdem dinheiro quando negociam derivativos__\", \"**🔴 Destaques da Madrugada da ActivTrades Brasil**\\n  \\n[Sobre as bolsas asiáticas, os principais índices de ações fecharam em alta nesta segunda-feira, impulsionadas pela expectativa e posterior anúncio de um acordo comercial entre Estados Unidos e China...\\n \\nNo mercado cambial, o dólar opera em alta frente aos seus principais pares e misto frente às divisas emergentes...]\\n  \\n  __Via Terminal Macro Trader / ActivTrades\\n\\n...\\nDisclaimer ActivTrades Brasil: Os derivativos financeiros são instrumentos complexos e apresentam um alto risco de perder dinheiro rapidamente devido à alavancagem. 84% das contas de investidores de retalhos perdem dinheiro quando negociam derivativos__\", \"**🟡 O que aconteceu no Mundo: EUA-China, Desescalada Geopolítica e Tarifária(2/2)**\\n \\n**▶️ Trump Promete Reduzir Preços de Medicamentos nos EUA em 59% ou Mais**\\nO presidente Donald Trump anunciou planos para reduzir custos de medicamentos, garantindo que americanos paguem não mais do que os países com os menores preços. Ações de empresas farmacêuticas caíram antes da abertura do mercado.\\n \\n**▶️ Ações de Farmacêuticas Caem Globalmente Após Anúncio de Trump**\\nEmpresas como Eli Lilly, Pfizer e Merck viram suas ações despencarem nos EUA, enquanto europeias como Novo Nordisk e Sanofi também recuaram. No Japão, o setor farmacêutico registrou sua maior queda diária desde agosto.\\n \\n**▶️ Analista: Mercado Volta à Normalidade Após Tensões Comerciais de Trump**\\nRoberto Scholtes, do Singular Bank, afirmou que os mercados estão retornando ao patamar anterior às políticas tarifárias universais de Trump, destacando fundamentos corporativos sólidos e bons resultados do primeiro trimestre.\\n \\n**▶️ Zelenskiy Aceita Negociações Diretas com Putin em Istambul**\\nO presidente ucraniano, Volodymyr Zelenskiy, viajará a Istambul em 15 de maio para negociações propostas por Vladimir Putin entre Rússia e Ucrânia.\\n \\n**▶️ Índia e Paquistão Concordam com Cessar-Fogo Mediado pelos EUA, mas Acusações Persistem**\\nOs dois países nucleares aceitaram um cessar-fogo imediato, mediado pelos EUA, mas logo se acusaram mutuamente de violar o acordo.\\n** \\n▶️ Hamas Libertará Refém Israelense-Estadunidense, Mas Israel Manterá Ofensiva**\\nO grupo Hamas libertará Edan Alexander na segunda-feira, mas o primeiro-ministro de Israel afirmou que não haverá cessar-fogo e que a campanha militar será intensificada.\\n \\n**🔴 EUA e China Reduzem Tarifas Temporariamente em Acordo**\\nSob pausa temporária, tarifas combinadas dos EUA cairão para 30%, enquanto as tarifas chinesas sobre produtos americanos serão reduzidas de 125% para 10%. Bessent afirmou que nenhum país deseja \\\"desvincular-se\\\" e que negociações podem levar a \\\"acordos de compra\\\".\\n    \\n__Via Terminal Macro Trader / ActivTrades\\n\\n...\\nDisclaimer ActivTrades Brasil: Os derivativos financeiros são instrumentos complexos e apresentam um alto risco de perder dinheiro rapidamente devido à alavancagem. 84% das contas de investidores de retalhos perdem dinheiro quando negociam derivativos__\", \"**🟡 O que aconteceu no Mundo: EUA-China, Desescalada Geopolítica e Tarifária(1/2)**\\n        \\n**O que aconteceu no Mundo: EUA-China, Desescalada Geopolítica e Tarifária(1/2)**\\n      \\n**▶️ Nissan Anuncia Corte de 20.000 Empregos em Plano de Reestruturação**\\nA Nissan aumentará os cortes de empregos para 20.000, ante 9.000 inicialmente planejados, após queda de 94% no lucro líquido no primeiro semestre, impactada por vendas fracas nos EUA e na China. Os cortes representam cerca de 15% da força de trabalho global.\\n      \\n__Via Terminal Macro Trader / ActivTrades\\n\\n...\\nDisclaimer ActivTrades Brasil: Os derivativos financeiros são instrumentos complexos e apresentam um alto risco de perder dinheiro rapidamente devido à alavancagem. 84% das contas de investidores de retalhos perdem dinheiro quando negociam derivativos__\", \"**🔴 EUA x China no Radar**\\n    \\n**Secretário do Tesouro dos Estados Unidos, Scott Bessent, “Imagino que a próxima reunião será voltada para um acordo mais abrangente”**\\n  \\n  __Via Terminal Macro Trader / ActivTrades\\n\\n...\\nDisclaimer ActivTrades Brasil: Os derivativos financeiros são instrumentos complexos e apresentam um alto risco de perder dinheiro rapidamente devido à alavancagem. 84% das contas de investidores de retalhos perdem dinheiro quando negociam derivativos__\", \"**O secretário do Tesouro dos Estados Unidos, Scott Bessent, afirmou em entrevista à CNBC, “Imagino que voltaremos a nos reunir nas próximas semanas”**\\n  \\n  __Via Terminal Macro Trader / ActivTrades\\n\\n...\\nDisclaimer ActivTrades Brasil: Os derivativos financeiros são instrumentos complexos e apresentam um alto risco de perder dinheiro rapidamente devido à alavancagem. 84% das contas de investidores de retalhos perdem dinheiro quando negociam derivativos__\", \"**🔴 Tarifas no Radar**\\n    \\n**O Secretário do Tesouro dos Estados Unidos, Bessent em entrevista a CNBC \\\"imagina\\\" que irão se reunir com a China novamente em poucas semanas para mais acordos**\\n  \\n  __Via Terminal Macro Trader / ActivTrades\\n\\n...\\nDisclaimer ActivTrades Brasil: Os derivativos financeiros são instrumentos complexos e apresentam um alto risco de perder dinheiro rapidamente devido à alavancagem. 84% das contas de investidores de retalhos perdem dinheiro quando negociam derivativos__\", \"**🔴 EUA x China no Radar**\\n    \\n**O secretário do Tesouro dos EUA, Scott Bessent, “Vamos proteger nossas indústrias de aço, semicondutores e medicamentos selecionados”**\\n  \\n  __Via Terminal Macro Trader / ActivTrades\\n\\n...\\nDisclaimer ActivTrades Brasil: Os derivativos financeiros são instrumentos complexos e apresentam um alto risco de perder dinheiro rapidamente devido à alavancagem. 84% das contas de investidores de retalhos perdem dinheiro quando negociam derivativos__\", \"**🔴 EUA x China no Radar**\\n    \\n**O secretário do Tesouro dos EUA, Scott Bessent, “Acreditamos que a China agora está realmente comprometida em interromper os fluxos de fentanil para os Estados Unidos”**\\n  \\n  __Via Terminal Macro Trader / ActivTrades\\n\\n...\\nDisclaimer ActivTrades Brasil: Os derivativos financeiros são instrumentos complexos e apresentam um alto risco de perder dinheiro rapidamente devido à alavancagem. 84% das contas de investidores de retalhos perdem dinheiro quando negociam derivativos__\", \"**🔴 EUA x China no Radar**\\n    \\n**O secretário do Tesouro dos EUA, Scott Bessent, “Vamos ver o que podemos fazer para trabalhar em barreiras não tarifárias”**\\n  \\n  __Via Terminal Macro Trader / ActivTrades\\n\\n...\\nDisclaimer ActivTrades Brasil: Os derivativos financeiros são instrumentos complexos e apresentam um alto risco de perder dinheiro rapidamente devido à alavancagem. 84% das contas de investidores de retalhos perdem dinheiro quando negociam derivativos__\", \"**🔴 Ucrânia x Rússia no Radar**\\n    \\n**Zelenskyy diz estar pronto para negociar com Putin na Turquia após pressão de Trump**\\n  \\n▶️ O presidente da Ucrânia, Volodymyr Zelenskyy, declarou estar disposto a iniciar negociações de paz com Vladimir Putin nesta quinta-feira, em Istambul, atendendo a um apelo direto do ex-presidente dos EUA, Donald Trump, para que se reunisse com o líder russo \\\"imediatamente\\\". \\n \\n▶️ A proposta de Zelenskyy veio após a Ucrânia ter exigido de Moscou um cessar-fogo incondicional de 30 dias, a partir de segunda-feira — exigência rejeitada por Putin, que sugeriu, em vez disso, o início de conversas diretas ainda esta semana na Turquia.\\n  \\n  __Via Terminal Macro Trader / ActivTrades\\n\\n...\\nDisclaimer ActivTrades Brasil: Os derivativos financeiros são instrumentos complexos e apresentam um alto risco de perder dinheiro rapidamente devido à alavancagem. 84% das contas de investidores de retalhos perdem dinheiro quando negociam derivativos__\", \"**🔴 Geopolítica no Radar**\\n    \\n**Cessar-fogo entre Índia e Paquistão resiste apesar de acusações mútuas; Trump promete intensificar comércio**\\n  \\n▶️ Um frágil cessar-fogo entre Índia e Paquistão parecia estar sendo mantido neste domingo, apesar de acusações cruzadas de violações e divergências sobre os termos do acordo. \\n \\n▶️ O presidente dos EUA, Donald Trump, afirmou ter tido um papel decisivo na mediação e prometeu “aumentar substancialmente o comércio com essas duas grandes nações”, além de colaborar com ambos os lados na busca por uma solução duradoura para o impasse na região da Caxemira.\\n  \\n  __Via Terminal Macro Trader / ActivTrades\\n\\n...\\nDisclaimer ActivTrades Brasil: Os derivativos financeiros são instrumentos complexos e apresentam um alto risco de perder dinheiro rapidamente devido à alavancagem. 84% das contas de investidores de retalhos perdem dinheiro quando negociam derivativos__\", \"**🔴 Balanços Corporativos no Radar**\\n    \\n**O BTG Pactual registrou lucro líquido ajustado de R$ 3,4 bilhões no primeiro trimestre de 2025 alta de 17% em relação ao mesmo período de 2024**\\n  \\n▶️ O lucro líquido contábil ficou em R$ 3,2 bilhões, crescimento de 14,28% na comparação anual.\\n \\n▶️ As receitas totais atingiram R$ 6,84 bilhões no trimestre, aumento de 16% em 12 meses e de 2% em relação ao quarto trimestre de 2024. \\n \\n▶️ O retorno ajustado sobre o patrimônio líquido (ROAE) foi de 23,2%, frente a 22,8% no mesmo período do ano passado e 23% no trimestre anterior.\\n \\n▶️ O patrimônio líquido do banco subiu para R$ 59,8 bilhões, contra R$ 51,9 bilhões um ano antes. \\n \\n▶️ O índice de Basileia encerrou o trimestre em 15,7%, estável em relação ao fim de 2024, mas abaixo dos 16,4% registrados um ano antes.\\n \\n▶️ Os ativos totais sob gestão e administração alcançaram R$ 2 trilhões, alta de 24% em 12 meses. A entrada líquida de recursos (net new money) somou R$ 105 bilhões no trimestre, frente a R$ 64 bilhões no mesmo período de 2024 e R$ 50 bilhões no quarto trimestre.\\n  \\n  __Via Terminal Macro Trader / ActivTrades\\n\\n...\\nDisclaimer ActivTrades Brasil: Os derivativos financeiros são instrumentos complexos e apresentam um alto risco de perder dinheiro rapidamente devido à alavancagem. 84% das contas de investidores de retalhos perdem dinheiro quando negociam derivativos__\", \"**🔴 EUA x China no Radar**\\n    \\n**Alívio nas tensões entre EUA e China deve impulsionar comércio, mas incertezas persistem, diz Société Générale**\\n  \\n▶️ Analistas do Société Générale afirmaram que o novo acordo comercial representa um ambiente menos hostil para as relações entre EUA e China e para a economia global como um todo. \\n \\n▶️ No entanto, alertam que ainda há incertezas relevantes para empresas e famílias. \\n \\n▶️ A expectativa é de um aumento significativo nos fluxos comerciais bilaterais nos próximos 90 dias.\\n  \\n  __Via Terminal Macro Trader / ActivTrades\\n\\n...\\nDisclaimer ActivTrades Brasil: Os derivativos financeiros são instrumentos complexos e apresentam um alto risco de perder dinheiro rapidamente devido à alavancagem. 84% das contas de investidores de retalhos perdem dinheiro quando negociam derivativos__\", \"**Big Techs no Radar**\\n    \\n**As \\\"7 magníficas\\\" são o grande destaque das bolsas dos Estados Unidos no pré-mercado, com Amazon liderando alta +8% após acordo entre EUA-China**\\n  \\n🟢 Apple (AAPL): +6,86%\\n🟢 Microsoft (MSFT): +2,04%\\n🟢 Google (GOOG): +3,35%\\n🟢 Amazon (AMZN): +8,12%\\n🟢 Meta (META): +6,62%\\n🟢 Tesla (TSLA): +7,71%\\n🟢 Nvidia (NVDA): +5,00%\\n  \\n  __Via Terminal Macro Trader / ActivTrades\\n\\n...\\nDisclaimer ActivTrades Brasil: Os derivativos financeiros são instrumentos complexos e apresentam um alto risco de perder dinheiro rapidamente devido à alavancagem. 84% das contas de investidores de retalhos perdem dinheiro quando negociam derivativos__\", \"**🔴 Balanços Corporativos no Radar**\\n    \\n**Banco Inter lucra R$ 287 milhões no 1º trimestre, uma alta de 57% em relação ao mesmo período de 2024**\\n  \\n▶️ O banco Inter registrou lucro líquido de R$ 287 milhões no primeiro trimestre de 2025, desconsiderando a participação de minoritários, o que representa um crescimento de 57% em relação ao mesmo período de 2024. \\n \\n▶️ A melhora da eficiência operacional foi apontada como o principal fator de alta no resultado, com o índice de eficiência recuando 1,3 ponto percentual frente ao trimestre anterior, para 48,8%.\\n \\n▶️ A receita total avançou 38% em 12 meses, somando R$ 42,6 bilhões, enquanto o retorno sobre o patrimônio líquido (ROE) subiu para 12,9%, um avanço de 3,7 pontos. \\n \\n▶️ Os ativos totais cresceram 29%, alcançando R$ 80,6 bilhões, e o patrimônio líquido chegou a R$ 9,9 bilhões, alta de 9% na base anual.\\n \\n▶️ A carteira de crédito aumentou 33% no período, para R$ 42,6 bilhões, impulsionada pela antecipação do FGTS e foco em operações com garantias. \\n \\n▶️ A margem financeira líquida subiu para 8,8% e o custo de risco caiu a 4,6%. \\n \\n▶️ A inadimplência acima de 90 dias recuou para 4,1%.\\n \\n▶️ Na linha de receitas de serviços, o banco registrou crescimento de 16% ano contra ano, totalizando R$ 475 milhões. \\n \\n▶️ O Inter encerrou o trimestre com 37,7 milhões de clientes, sendo 21,6 milhões ativos — uma taxa de ativação de 57,2%.\\n  \\n  __Via Terminal Macro Trader / ActivTrades\\n\\n...\\nDisclaimer ActivTrades Brasil: Os derivativos financeiros são instrumentos complexos e apresentam um alto risco de perder dinheiro rapidamente devido à alavancagem. 84% das contas de investidores de retalhos perdem dinheiro quando negociam derivativos__\", \"**🔴 EUA x China no Radar**\\n    \\n**O secretário do Tesouro dos EUA Scott Bessent afirmou que as tarifas a China relacionadas ao fentanil continuam em vigor**\\n  \\n▶️ Essas tarifas permanecem apesar do acordo anunciado com Pequim para reduzir tarifas recíprocas sobre a maioria dos produtos por 90 dias. \\n \\n▶️ “Os Estados Unidos, no início deste ano, impuseram 20% relacionadas ao fentanil. \\n \\n▶️ Isso ainda existe”, disse Bessent em coletiva de imprensa, explicando que essas medidas seguem um caminho separado, mas “muito positivo”.\\n \\n▶️ Embora não tenha especificado o total de tarifas ligadas ao fentanil, o secretário destacou que o foco do acordo atual está na redução mútua das tarifas gerais para 10%, com o objetivo de criar um ambiente mais estável para negociações futuras. \\n \\n▶️ O presidente Donald Trump já havia citado a crise dos opioides nos EUA como justificativa para impor tarifas adicionais à China, vinculado ao combate ao fentanil.\\n \\n▶️ Com o acordo anunciado nesta segunda-feira, Washington e Pequim concordaram em suspender por três meses a maior parte das tarifas elevadas — antes em até 125% — para permitir o avanço de negociações comerciais mais amplas.\\n  \\n  __Via Terminal Macro Trader / ActivTrades\\n\\n...\\nDisclaimer ActivTrades Brasil: Os derivativos financeiros são instrumentos complexos e apresentam um alto risco de perder dinheiro rapidamente devido à alavancagem. 84% das contas de investidores de retalhos perdem dinheiro quando negociam derivativos__\", \"**🔴 Brasil no Radar**\\n    \\n**A ata do Copom que será divulgada na terça-feira poderá redefinir as expectativas para a taxa Selic terminal**\\n  \\n▶️ Isso ocorre após o comunicado anterior deixar indefinido se o ciclo de alta se encerra com a taxa em 14,75% ou se ainda há espaço para um ajuste residual de 25 pontos-base. \\n \\n▶️ O IPCA de abril, divulgado na última sexta-feira, reforçou uma visão mais cautelosa, com elevada difusão inflacionária, apesar da desaceleração na margem, e se somou à forte surpresa positiva na produção industrial de março. \\n \\n▶️ Caso a ata não traga clareza, os dados de volume de serviços e vendas no varejo de março a serem divulgados durante a semana poderão ser determinantes para orientar o mercado.\\n  \\n  __Via Terminal Macro Trader / ActivTrades\\n\\n...\\nDisclaimer ActivTrades Brasil: Os derivativos financeiros são instrumentos complexos e apresentam um alto risco de perder dinheiro rapidamente devido à alavancagem. 84% das contas de investidores de retalhos perdem dinheiro quando negociam derivativos__\", \"**🔴 EUA x China no Radar**\\n\\n**Jamieson Greer afirmou que as tarifas comerciais impostas por EUA e China serão reduzidas de 125% para 10% durante um período de 90 dias**\\n\\n▶️ O representante comercial dos Estados Unidos Jamieson Greer afirmou nesta segunda-feira em coletiva de imprensa que as tarifas comerciais impostas por EUA e China serão reduzidas de 125% para 10% durante um período de 90 dias.\\n \\n▶️ Essa afirmação faz parte do acordo anunciado para retomar as negociações bilaterais. \\n \\n▶️ Segundo ele, a medida representa uma redução conjunta de 115 pontos percentuais nas chamadas “tarifas recíprocas”.\\n \\n▶️ Greer explicou que, quando o governo Trump impôs essas tarifas em abril a diversos países, a China — que havia recebido uma alíquota inicial de 34% — foi a única a responder com retaliações. \\n \\n▶️ “A China retaliou não apenas com tarifas, mas também com medidas não tarifárias assimétricas desproporcionais”, afirmou. \\n \\n▶️ Em resposta, os EUA ampliaram ainda mais suas tarifas, levando os dois países a escalarem suas respectivas alíquotas para 125%.\\n \\n▶️ Com o novo entendimento, Greer disse que a China concordou em retirar as contramedidas que havia adotado durante a disputa. \\n \\n▶️ A redução tarifária, válida por três meses, tem como objetivo criar espaço para um avanço significativo nas negociações comerciais, após meses de escalada que impactaram fortemente os fluxos de comércio entre as duas maiores economias do mundo.\\n   \\n__Via Terminal Macro Trader / ActivTrades\\n\\n...\\nDisclaimer ActivTrades Brasil: Os derivativos financeiros são instrumentos complexos e apresentam um alto risco de perder dinheiro rapidamente devido à alavancagem. 84% das contas de investidores de retalhos perdem dinheiro quando negociam derivativos__\", \"**🔴 Balanços Corporativos no Radar**\\n    \\n**A Petrobras divulga hoje seus resultados do primeiro trimestre após o fechamento do mercado**\\n  \\n▶️ A expectativa é de desempenho positivo, impulsionado pelo aumento na produção de óleo e gás.\\n \\n▶️ Estimativas de bancos e corretoras indicam um lucro líquido médio de R$ 34,9 bilhões, alta de 47,25% em relação ao mesmo período do ano passado. \\n \\n▶️ A receita líquida deve atingir R$ 130 bilhões (+10,47%) e o Ebitda, R$ 64,3 bilhões (+7,16%).\\n  \\n  __Via Terminal Macro Trader / ActivTrades\\n\\n...\\nDisclaimer ActivTrades Brasil: Os derivativos financeiros são instrumentos complexos e apresentam um alto risco de perder dinheiro rapidamente devido à alavancagem. 84% das contas de investidores de retalhos perdem dinheiro quando negociam derivativos__\", \"**🔴 Highlights do Overnight**\\n  \\n🔹Na Ásia, os principais índices de ações fecharam em alta nesta segunda-feira, impulsionadas pela expectativa e posterior anúncio de um acordo comercial entre Estados Unidos e China. O avanço mais expressivo foi em Hong Kong, onde o índice Hang Seng saltou 2,98%, registrando sua maior alta diária em mais de dois meses. O movimento ocorreu após Washington e Pequim confirmarem a suspensão da maior parte das tarifas bilaterais — reduzidas de até 125% para 10% — por um período de 90 dias, embora as tarifas ligadas ao fentanil tenham sido mantidas. Em outros mercados da região, que já haviam encerrado os negócios antes do anúncio, o tom também foi positivo: o Nikkei subiu 0,38% em Tóquio e o Taiex teve alta de 1,03% em Taiwan. Na China continental, o Xangai  ganhou 0,82% e o Shenzhen Composto, 1,70%. \\n \\n🔹Na Europa, os principais índices de ações operam em alta, impulsionadas pelo otimismo em torno do acordo comercial firmado entre Estados Unidos e China no fim de semana. \\n \\n🔹FTSE 100        0,43  \\n🔹EURO STOXX 50   0,83  \\n🔹DAX 40          0,86  \\n🔹CAC 40          1,62  \\n🔹IBEX 35         0,58 \\n \\n🔹Em Wall Street, os índices futuros de Nova York operam em forte alta, reagindo ao anúncio do acordo entre Estados Unidos e China para a redução significativa das tarifas bilaterais por um período de 90 dias.\\n \\n🔹S&P 500         2,85  \\n🔹NASDAQ 100      3,83  \\n🔹DOW JONES       2,20  \\n🔹RUSSELL 2000    4,31  \\n \\n🔹No câmbio, o dólar opera em alta frente aos seus principais pares e misto frente às divisas emergentes. O euro e o iene recuam significativamente em meio à valorização generalizada da moeda americana. O movimento reflete a expectativa de avanços nas negociações comerciais e redução de incertezas econômicas globais.\\n \\n🔹No setor energético, os preços do petróleo operam em forte alta, impulsionados pelo anúncio de que Estados Unidos e China reduzirão parte de suas tarifas comerciais. A medida elevou o otimismo dos investidores, que veem no acordo uma possível sinalização de alívio nas tensões entre os dois maiores consumidores de petróleo do mundo.\\n \\n🔹Entre as commodities, o minério de ferro fechou em alta de 3,16% na bolsa chinesa de Dalian.\\n \\n🔹O índice EWZ é negociado em alta de 1,60%. A ADR da Petrobras opera em alta de 1,78% e a ADR da Vale em alta de 2,88%.\\n  \\n  __Via Terminal Macro Trader / ActivTrades\\n\\n...\\nDisclaimer ActivTrades Brasil: Os derivativos financeiros são instrumentos complexos e apresentam um alto risco de perder dinheiro rapidamente devido à alavancagem. 84% das contas de investidores de retalhos perdem dinheiro quando negociam derivativos__\", \"**🔴 Em 15 Minutos\\n\\nMorning Call da ActivTrades - Acordo Comercial EUA e China**\\n\\nApós o forte rali nas bolsas globais na semana passada, a agenda desta segunda-feira vem mais esvaziada em termos de indicadores econômicos. No entanto, os traders já se posicionam à espera dos dados de inflação dos Estados Unidos. Não perca o Morning Call da ActivTrades, sua primeira fonte de informação para começar o dia bem informado sobre os mercados globais.\\n\\nhttps://www.youtube.com/watch?v=bkYztQphdMQ\", \"**🔴 Trump no Radar**\\n    \\n**Trump promete corte de 59% nos preços de medicamentos e redução ampla no custo de vida**\\n  \\n▶️ O presidente dos Estados Unidos, Donald Trump, afirmou nesta segunda-feira, via Truth Social, que os preços dos medicamentos no país serão reduzidos em 59%, junto com quedas no custo da gasolina, energia, mantimentos e “todos os outros custos”. \\n \\n▶️ A declaração integra uma série de promessas econômicas do presidente, em meio a negociações comerciais e pressões inflacionárias. \\n \\n▶️ Trump não detalhou como as reduções seriam implementadas.\\n  \\n  __Via Terminal Macro Trader / ActivTrades\\n\\n...\\nDisclaimer ActivTrades Brasil: Os derivativos financeiros são instrumentos complexos e apresentam um alto risco de perder dinheiro rapidamente devido à alavancagem. 84% das contas de investidores de retalhos perdem dinheiro quando negociam derivativos__\", \"**🔴 Tarifas no Radar(2/2)**\\n      \\n**Estados Unidos e China emitem declaração conjunta após conversas reduzindo drasticamente as tarifas; Entenda a reação forte dos mercados(2/2)**\\n \\n▶️ Bessent acrescentou que as reduções tarifárias anunciadas hoje não se aplicam às taxas setoriais impostas a todos os parceiros comerciais dos EUA, e as tarifas aplicadas à China durante o primeiro governo Trump permanecem em vigor.\\n \\n ▶️ \\\"Tivemos uma discussão muito sólida e produtiva sobre os próximos passos em relação ao fentanil” e que as negociações podem levar a “acordos de compra” pela China, adicionou Bessent.\\n \\n**🟡 Reações: Índices de ações ao redor do globo em forte alta, no destaque, Nasdaq +3,79% e S&P500 2,81%. Ouro recua -3,78% e o dólar subiu a nível global, com destaque para o dólar/iene -1,9%. Nas taxas de juros o vértice de 2 anos ganha 10 bps enquanto o mercado reajusta as expectativas de cortes pelo FED.**\\n    \\n__Via Terminal Macro Trader / ActivTrades\\n\\n...\\nDisclaimer ActivTrades Brasil: Os derivativos financeiros são instrumentos complexos e apresentam um alto risco de perder dinheiro rapidamente devido à alavancagem. 84% das contas de investidores de retalhos perdem dinheiro quando negociam derivativos__\", \"**🔴 Tarifas no Radar(1/2)**\\n        \\n**Estados Unidos e China emitem declaração conjunta após conversas reduzindo drasticamente as tarifas; Entenda a reação forte dos mercados(1/2)**\\n      \\n▶️  As taxas combinadas de 145% dos EUA sobre a maioria das importações chinesas serão reduzidas para 30%, incluindo a taxa vinculada ao fentanil, até 14 de maio, enquanto as taxas chinesas de 125% sobre produtos americanos cairão para 10%, de acordo com o comunicado e autoridades em um briefing na segunda-feira em Genebra.\\n      \\n__Via Terminal Macro Trader / ActivTrades\\n\\n...\\nDisclaimer ActivTrades Brasil: Os derivativos financeiros são instrumentos complexos e apresentam um alto risco de perder dinheiro rapidamente devido à alavancagem. 84% das contas de investidores de retalhos perdem dinheiro quando negociam derivativos__\", \"**Destaques da Agenda: A agenda desta segunda-feira contará nos EUA com a divulgação do Relatório WASDE e o Balanço Orçamentário Federal. O México divulga sua Produção Industrial. No Brasil, O BC divulga o Boletim Focus; o ministro Fernando Haddad concede entrevistas. No front corporativo, divulgam seus resultados: Petrobras, BTG Pactual, Banco do Brasil, Itaúsa e Sabesp.**\\n\\n\\n  \\n Via Terminal Macro Trader / ActivTrades\\n\\nDisclaimer ActivTrades Brasil: Os derivativos financeiros são instrumentos complexos e apresentam um alto risco de perder dinheiro rapidamente devido à alavancagem. 83% das contas de investidores de retalhos perdem dinheiro quando negociam derivativos\", \"🟡 **Mercados no Radar**\\n\\n**As ações asiáticas e os futuros dos índices de ações dos EUA subiram, enquanto o dólar se fortaleceu, após China e Estados Unidos relatarem “avanços substanciais” em suas negociações comerciais, incentivando o apetite por risco.**\\n\\nAs ações na Austrália, Japão e Coreia do Sul abriram em alta, com o índice Topix avançando pelo 12º dia consecutivo, sua maior sequência de ganhos desde outubro de 2017. Os contratos futuros do S&P 500 e do Nasdaq 100 subiram mais de 1,2%, enquanto o petróleo teve alta e o ouro recuou 1,5%. \\n\\nO dólar se valorizou frente aos principais pares e o rendimento dos Treasuries de 10 anos dos EUA subiu 3 pontos-base.\\n\\nEmbora as ações tenham se recuperado recentemente — o índice S&P 500 quase retornou ao nível anterior ao anúncio do presidente Donald Trump sobre tarifas recíprocas no início de abril —, novos ganhos dependerão da redução nas tensões comerciais entre EUA e China. \\n\\nO temor é que, caso não sejam revertidas, as tarifas retaliatórias possam provocar um golpe estagflacionário nas economias globais, levando-as à recessão e aumentando a inflação ao mesmo tempo.\\n\\n__Via Terminal Macro Trader / ActivTrades\\n\\n...\\nDisclaimer ActivTrades Brasil: Os derivativos financeiros são instrumentos complexos e apresentam um alto risco de perder dinheiro rapidamente devido à alavancagem. 84% das contas de investidores de retalhos perdem dinheiro quando negociam derivativos__\"]\n"
     ]
    }
   ],
   "source": [
    "async def get_all_yesterday_messages():\n",
    "    yesterday_obj = datetime.now() - timedelta(days=1)\n",
    "    yesterday_date_val = yesterday_obj.date()\n",
    "    texts_for_yesterday = []\n",
    "\n",
    "    async with TelegramClient(SESSION_NAME, API_ID, API_HASH) as client:\n",
    "        channel_entity = await client.get_entity(CHANNEL_IDENTIFIER)\n",
    "        \n",
    "        # client.iter_messages iterates from newest to oldest by default.\n",
    "        # We'll iterate and collect messages from yesterday, stopping when we pass into the day before.\n",
    "        # limit=None means iterate as many messages as needed.\n",
    "        async for msg in client.iter_messages(channel_entity, limit=None):\n",
    "            # Ensure msg.date is timezone-aware or convert to naive if comparing with naive yesterday_date_val\n",
    "            # Telethon messages usually have timezone-aware UTC datetimes.\n",
    "            current_msg_date = msg.date.date()\n",
    "\n",
    "            if current_msg_date == yesterday_date_val:\n",
    "                if msg.text: # Using msg.text for cleaner text, msg.message is also an option\n",
    "                    texts_for_yesterday.append(msg.text)\n",
    "            elif current_msg_date < yesterday_date_val:\n",
    "                # We've iterated past yesterday's messages (into older days)\n",
    "                break \n",
    "                \n",
    "    return texts_for_yesterday\n",
    "\n",
    "# To use this function:\n",
    "texts = await get_all_yesterday_messages()\n",
    "print(json.dumps(texts, ensure_ascii=False))\n"
   ]
  },
  {
   "cell_type": "code",
   "execution_count": 3,
   "metadata": {},
   "outputs": [
    {
     "data": {
      "text/plain": [
       "'As Maiores - Ibovespa'"
      ]
     },
     "execution_count": 3,
     "metadata": {},
     "output_type": "execute_result"
    }
   ],
   "source": [
    "texts[2]"
   ]
  },
  {
   "cell_type": "markdown",
   "metadata": {},
   "source": [
    "### Também criar cache para evitar carregar o Telegram"
   ]
  },
  {
   "cell_type": "markdown",
   "metadata": {},
   "source": [
    "## Fazer limpeza e sumarizar o texto\n"
   ]
  },
  {
   "cell_type": "code",
   "execution_count": 5,
   "metadata": {},
   "outputs": [],
   "source": [
    "# summarize.py\n",
    "\n",
    "import sys\n",
    "import json\n",
    "import re # limpeza do texto\n",
    "from langchain.docstore.document import Document\n",
    "from langchain_google_genai import ChatGoogleGenerativeAI\n",
    "from langchain.chains import LLMChain\n",
    "from langchain.prompts import PromptTemplate\n",
    "\n",
    "from dotenv import load_dotenv\n",
    "from pathlib import Path\n",
    "import os\n",
    "\n",
    "# Sempre procura o .env na raiz\n",
    "load_dotenv(\".env\")\n",
    "\n",
    "API_ID = os.getenv(\"TELEGRAM_API_ID\")\n",
    "API_HASH = os.getenv(\"TELEGRAM_API_HASH\")\n",
    "CHANNEL_IDENTIFIER = os.getenv(\"TELEGRAM_CHANNEL\")\n",
    "SESSION_NAME = os.getenv(\"TELEGRAM_SESSION_NAME\")\n",
    "GOOGLE_API_KEY = os.getenv(\"GOOGLE_API_KEY\")\n",
    "\n",
    "# 🧠 Inicializa o LLM da Google com LangChain\n",
    "llm = ChatGoogleGenerativeAI(model=\"gemini-2.0-flash\", google_api_key=GOOGLE_API_KEY)"
   ]
  },
  {
   "cell_type": "code",
   "execution_count": 26,
   "metadata": {},
   "outputs": [],
   "source": [
    "# 🛠️ Usa a chain de resumo da LangChain\n",
    "summary_prompt = PromptTemplate.from_template(\"\"\"\n",
    "Você é um analista financeiro e deve resumir as principais notícias do dia anterior sobre mercados, política e empresas.\n",
    "Organize em tópicos, destaque os pontos mais relevantes e elimine repetições e termos promocionais.\n",
    "\n",
    "Texto:\n",
    "{input}\n",
    "\n",
    "Resumo claro, direto e com tópicos:\n",
    "\"\"\")\n",
    "\n",
    "summarize_chain = summary_prompt | llm\n",
    "\n",
    "\n",
    "def clean_text(text):\n",
    "    # Remove disclaimers repetitivos\n",
    "    text = re.sub(r'Disclaimer ActivTrades.*?derivativos__', '', text, flags=re.DOTALL)\n",
    "    # Remove links\n",
    "    text = re.sub(r'https?://\\S+', '', text)\n",
    "    # Remove espaçamentos excessivos\n",
    "    text = re.sub(r'\\n{2,}', '\\n', text)\n",
    "    return text.strip()\n",
    "\n",
    "def summarize(texts):\n",
    "    # 🧾 Cria o documento para a chain\n",
    "    content = \"\\n\\n\".join([clean_text(t) for t in texts])\n",
    "    # documents = [Document(page_content=content)]\n",
    "\n",
    "    # 📄 Executa o resumo\n",
    "    result = summarize_chain.invoke({\"input\": content})\n",
    "    if hasattr(result, \"content\"):\n",
    "        summary = result.content\n",
    "    else:\n",
    "        summary = result\n",
    "    return summary\n"
   ]
  },
  {
   "cell_type": "code",
   "execution_count": 27,
   "metadata": {},
   "outputs": [
    {
     "name": "stdout",
     "output_type": "stream",
     "text": [
      "## Resumo do Dia Anterior – Mercados, Política e Empresas\n",
      "\n",
      "**Mercados Globais:**\n",
      "\n",
      "*   **EUA-China:** Acordo para suspender temporariamente tarifas bilaterais por 90 dias impulsionou mercados. EUA reduzirão tarifas sobre produtos chineses de 145% para 30%, China de 125% para 10%. Setores de aço, alumínio, farma e fentanil não foram incluídos no acordo.\n",
      "*   **Ações:** Índices de ações globais em alta, com destaque para as Big Techs americanas na abertura (Amazon liderando). Ibovespa futuro abriu com gap de alta, mas perdeu força ao longo do dia.\n",
      "*   **Câmbio:** Dólar em alta frente aos principais pares e misto contra emergentes.\n",
      "*   **Petróleo:** Preços em alta com otimismo sobre acordo EUA-China.\n",
      "*   **Juros:** Expectativas para cortes do Fed reajustadas.\n",
      "*   **Metais:** Ouro em queda, influenciado pela diminuição da aversão ao risco.\n",
      "*   **Boletim Focus:** Projeções para a inflação de 2025 recuando pela quarta semana consecutiva.\n",
      "\n",
      "**Política:**\n",
      "\n",
      "*   **EUA-China:** Expectativa de novas reuniões em breve para acordos mais abrangentes. China concordou em suspender ou remover barreiras não-tarifárias.\n",
      "*   **EUA:** Trump prometeu corte de até 59% nos preços de medicamentos e assinou ordem executiva com esse objetivo.\n",
      "*   **Rússia-Ucrânia:** Zelenskyy aceitou negociar com Putin na Turquia, após pressão de Trump. Rússia estaria ignorando oferta de cessar-fogo.\n",
      "*   **Índia-Paquistão:** Cessar-fogo mediado pelos EUA resiste, apesar de acusações mútuas.\n",
      "*   **Brasil:** Lula não escolherá entre EUA e China. Haddad considera a reforma do IR seu \"legado\". Governo lançou programa de subsídio ao gás para famílias de baixa renda.\n",
      "*   **México:** Banxico deve cortar taxa em 50 pontos-base na quinta-feira.\n",
      "\n",
      "**Empresas:**\n",
      "\n",
      "*   **Big Techs:** Amazon lidera altas das Big Techs após acordo EUA-China.\n",
      "*   **Apple:** Considera aumento de preços de iPhones. Trump afirmou que Apple vai investir mais nos EUA.\n",
      "*   **Tesla:** Agência de segurança dos EUA pede informações sobre plano Robotaxi.\n",
      "*   **Petrobras:** Expectativa de resultados positivos no 1º trimestre.\n",
      "*   **BTG Pactual:** Lucro de R$ 3,37 bilhões no 1º trimestre.\n",
      "*   **Banco Inter:** Lucro de R$ 287 milhões no 1º trimestre.\n",
      "*   **Eli Lilly:** Afirma superioridade do Zepbound sobre Wegovy em estudo.\n",
      "*   **Novo Nordisk:** Reconhece importância de preços competitivos para medicamentos.\n",
      "*   **Goldman Sachs:** Prevê aumento da produção da OPEP+ em julho, seguido de pausa.\n",
      "\n",
      "**Geopolítica:**\n",
      "\n",
      "*   **Oriente Médio:** Hamas pediu que Trump intensifique esforços por solução em Gaza.\n",
      "*   **Europa:** Ministros de 7 países europeus concordaram em apoiar forças armadas da Ucrânia.\n",
      "\n",
      "**Outros Destaques:**\n",
      "\n",
      "*   Estados Unidos emitem novas sanções relacionadas ao Irã.\n",
      "*   Bancos dos EUA relatam queda na demanda por empréstimos empresariais.\n",
      "*   Déficit orçamentário dos EUA chega a US$ 258 bilhões em abril.\n",
      "*   Goolsbee, do Fed, diz que o Fed poderia se dar ao luxo de levar tempo para tomar decisões políticas.\n",
      "*   Intel fecha provavelmente acordo com novo cliente para sua divisão de fundição.\n",
      "*   Demanda pelo instrumento RRP (Reverse Repo Program) do Federal Reserve de Nova York subiu.\n"
     ]
    }
   ],
   "source": [
    "\n",
    "result = summarize(texts)\n",
    "print(result)\n"
   ]
  },
  {
   "cell_type": "code",
   "execution_count": 28,
   "metadata": {},
   "outputs": [
    {
     "data": {
      "text/plain": [
       "str"
      ]
     },
     "execution_count": 28,
     "metadata": {},
     "output_type": "execute_result"
    }
   ],
   "source": [
    "type(result)"
   ]
  },
  {
   "cell_type": "code",
   "execution_count": 11,
   "metadata": {},
   "outputs": [],
   "source": [
    "def format_markdown(summary):\n",
    "    return \"\\n\".join([\n",
    "        f\"### 📌 {line.strip()}\" if line.startswith(\"*\") or line.startswith(\"▶️\") else line\n",
    "        for line in summary.split(\"\\n\") if line.strip()\n",
    "    ])"
   ]
  },
  {
   "cell_type": "code",
   "execution_count": 29,
   "metadata": {},
   "outputs": [
    {
     "name": "stdout",
     "output_type": "stream",
     "text": [
      "## Resumo do Dia Anterior – Mercados, Política e Empresas\n",
      "### 📌 **Mercados Globais:**\n",
      "### 📌 *   **EUA-China:** Acordo para suspender temporariamente tarifas bilaterais por 90 dias impulsionou mercados. EUA reduzirão tarifas sobre produtos chineses de 145% para 30%, China de 125% para 10%. Setores de aço, alumínio, farma e fentanil não foram incluídos no acordo.\n",
      "### 📌 *   **Ações:** Índices de ações globais em alta, com destaque para as Big Techs americanas na abertura (Amazon liderando). Ibovespa futuro abriu com gap de alta, mas perdeu força ao longo do dia.\n",
      "### 📌 *   **Câmbio:** Dólar em alta frente aos principais pares e misto contra emergentes.\n",
      "### 📌 *   **Petróleo:** Preços em alta com otimismo sobre acordo EUA-China.\n",
      "### 📌 *   **Juros:** Expectativas para cortes do Fed reajustadas.\n",
      "### 📌 *   **Metais:** Ouro em queda, influenciado pela diminuição da aversão ao risco.\n",
      "### 📌 *   **Boletim Focus:** Projeções para a inflação de 2025 recuando pela quarta semana consecutiva.\n",
      "### 📌 **Política:**\n",
      "### 📌 *   **EUA-China:** Expectativa de novas reuniões em breve para acordos mais abrangentes. China concordou em suspender ou remover barreiras não-tarifárias.\n",
      "### 📌 *   **EUA:** Trump prometeu corte de até 59% nos preços de medicamentos e assinou ordem executiva com esse objetivo.\n",
      "### 📌 *   **Rússia-Ucrânia:** Zelenskyy aceitou negociar com Putin na Turquia, após pressão de Trump. Rússia estaria ignorando oferta de cessar-fogo.\n",
      "### 📌 *   **Índia-Paquistão:** Cessar-fogo mediado pelos EUA resiste, apesar de acusações mútuas.\n",
      "### 📌 *   **Brasil:** Lula não escolherá entre EUA e China. Haddad considera a reforma do IR seu \"legado\". Governo lançou programa de subsídio ao gás para famílias de baixa renda.\n",
      "### 📌 *   **México:** Banxico deve cortar taxa em 50 pontos-base na quinta-feira.\n",
      "### 📌 **Empresas:**\n",
      "### 📌 *   **Big Techs:** Amazon lidera altas das Big Techs após acordo EUA-China.\n",
      "### 📌 *   **Apple:** Considera aumento de preços de iPhones. Trump afirmou que Apple vai investir mais nos EUA.\n",
      "### 📌 *   **Tesla:** Agência de segurança dos EUA pede informações sobre plano Robotaxi.\n",
      "### 📌 *   **Petrobras:** Expectativa de resultados positivos no 1º trimestre.\n",
      "### 📌 *   **BTG Pactual:** Lucro de R$ 3,37 bilhões no 1º trimestre.\n",
      "### 📌 *   **Banco Inter:** Lucro de R$ 287 milhões no 1º trimestre.\n",
      "### 📌 *   **Eli Lilly:** Afirma superioridade do Zepbound sobre Wegovy em estudo.\n",
      "### 📌 *   **Novo Nordisk:** Reconhece importância de preços competitivos para medicamentos.\n",
      "### 📌 *   **Goldman Sachs:** Prevê aumento da produção da OPEP+ em julho, seguido de pausa.\n",
      "### 📌 **Geopolítica:**\n",
      "### 📌 *   **Oriente Médio:** Hamas pediu que Trump intensifique esforços por solução em Gaza.\n",
      "### 📌 *   **Europa:** Ministros de 7 países europeus concordaram em apoiar forças armadas da Ucrânia.\n",
      "### 📌 **Outros Destaques:**\n",
      "### 📌 *   Estados Unidos emitem novas sanções relacionadas ao Irã.\n",
      "### 📌 *   Bancos dos EUA relatam queda na demanda por empréstimos empresariais.\n",
      "### 📌 *   Déficit orçamentário dos EUA chega a US$ 258 bilhões em abril.\n",
      "### 📌 *   Goolsbee, do Fed, diz que o Fed poderia se dar ao luxo de levar tempo para tomar decisões políticas.\n",
      "### 📌 *   Intel fecha provavelmente acordo com novo cliente para sua divisão de fundição.\n",
      "### 📌 *   Demanda pelo instrumento RRP (Reverse Repo Program) do Federal Reserve de Nova York subiu.\n"
     ]
    }
   ],
   "source": [
    "print(format_markdown(result))"
   ]
  },
  {
   "cell_type": "markdown",
   "metadata": {},
   "source": [
    "## Testar o acesso a api\n"
   ]
  },
  {
   "cell_type": "code",
   "execution_count": 17,
   "metadata": {},
   "outputs": [],
   "source": [
    "import requests"
   ]
  },
  {
   "cell_type": "code",
   "execution_count": 24,
   "metadata": {},
   "outputs": [],
   "source": [
    "API_URL = \"http://localhost:8080/resumo\"  # ou a URL do seu deploy Railway\n",
    "\n",
    "def format_markdown(summary):\n",
    "    return \"\\n\".join([\n",
    "        f\"### 📌 {line.strip()}\" if line.startswith(\"*\") or line.startswith(\"▶️\") else line\n",
    "        for line in summary.split(\"\\n\") if line.strip()\n",
    "    ])\n",
    "\n",
    "response = requests.get(API_URL, timeout=30)\n",
    "data = response.json()\n",
    "resumo = data.get(\"resumo\", \"\")\n",
    "\n",
    "    "
   ]
  },
  {
   "cell_type": "code",
   "execution_count": 25,
   "metadata": {},
   "outputs": [
    {
     "data": {
      "text/plain": [
       "'content=\\'Aqui está um resumo das principais notícias do dia anterior, organizadas por tópico:\\\\n\\\\n**Estados Unidos e China:**\\\\n\\\\n*   **Redução de Tarifas:** EUA e China concordaram em reduzir tarifas por 90 dias. As tarifas dos EUA sobre produtos chineses caem de 145% para 30%, enquanto as tarifas chinesas sobre produtos americanos diminuem de 125% para 10%.\\\\n*   **Fentanil:** As tarifas dos EUA sobre o fentanil permanecem em vigor, separadas do acordo geral de redução de tarifas.\\\\n*   **Próximos Passos:** EUA e China planejam se reunir novamente em breve para discutir acordos mais amplos e barreiras não tarifárias.\\\\n*   **Impacto:** O alívio nas tensões comerciais deve impulsionar o comércio, mas analistas alertam sobre incertezas persistentes.\\\\n\\\\n**Política dos EUA:**\\\\n\\\\n*   **Preços de Medicamentos:** Trump prometeu reduzir os preços dos medicamentos em até 59% e assinou uma ordem executiva com esse objetivo. Ações de empresas farmacêuticas caíram. A Casa Branca mira medicamentos para diabetes e perda de peso.\\\\n*   **Orçamento:** O déficit orçamentário dos EUA atingiu US$258 bilhões em abril, acima das expectativas.\\\\n*   **Sanções:** Os EUA anunciaram novas sanções contra cidadãos e entidades iranianas ligadas à pesquisa de defesa.\\\\n*   **Projeto de Lei:** Republicanos da Câmara dos Representantes propõem isenção de horas extras e impostos sobre gorjetas, com algumas exceções.\\\\n*   **Relação com a UE:** Os EUA estão abertos à cooperação com a UE em segurança econômica, mas o futuro das negociações comerciais é incerto.\\\\n*   **Relação com Israel:** Trump ignorou Israel em sua viagem ao Oriente Médio, gerando preocupações sobre a prioridade de Washington ao país.\\\\n*   **Relação com a Rússia:** Trump acredita que a Rússia aceitará um cessar-fogo de 30 dias na Ucrânia.\\\\n*   **Relação com a Apple:** Trump afirmou que conversou com Tim Cook e que a Apple vai investir mais nos Estados Unidos.\\\\n\\\\n**Política Monetária:**\\\\n\\\\n*   **Fed:** Goolsbee (do Fed) indicou que o Fed pode levar tempo para tomar decisões políticas e alertou que tarifas podem ter impulso estagflacionário. Kugler (do Fed) afirmou que favoreceu manter as taxas restritivas.\\\\n*   **Banco do México:** Analistas esperam um corte de 50 pontos-base na taxa de juros na próxima quinta-feira.\\\\n*   **Banco da Inglaterra:** Taylor (do BoE) diz que taxa neutra é de 2,75-3% no Reino Unido e que o choque tarifário foi maior do que o esperado.\\\\n*   **BCE:** Escriva e Nagel (do BCE) disseram que devem ser humildes ao avaliar a situação atual e não devem reagir exageradamente a anúncios individuais.\\\\n\\\\n**Geopolítica:**\\\\n\\\\n*   **Ucrânia/Rússia:** O ministro das Relações Exteriores turco discutiu esforços de paz com seu homólogo russo. Zelenskyy está pronto para negociar com Putin na Turquia após pressão de Trump.\\\\n*   **Índia/Paquistão:** Cessar-fogo entre Índia e Paquistão persiste apesar de acusações mútuas.\\\\n*   **Gaza:** Hamas pediu que a administração Trump intensifique os esforços para encerrar o conflito em Gaza e libertará refém israelense-estadunidense. Netanyahu afirmou que não haverá cessar-fogo e que a campanha militar será intensificada.\\\\n*   **Apoio à Ucrânia:** Ministros de sete países europeus concordaram em apoiar as forças armadas da Ucrânia.\\\\n\\\\n**Mercados:**\\\\n\\\\n*   **Ações:** Índices de ações americanos fecharam em alta, impulsionados pelo acordo EUA-China.\\\\n*   **Dólar:** O dólar ganhou força após o anúncio do acordo EUA-China.\\\\n*   **Petróleo:** Preços do petróleo operam em alta, impulsionados pelo acordo EUA-China. Goldman Sachs prevê queda nos preços do Brent/WTI em 2025 e 2026.\\\\n*   **Ibovespa:** Ibovespa futuro zerou os ganhos da sessão após subir com otimismo externo e acordo EUA-China.\\\\n*   **Semicondutores:** Trump considera venda de chips de IA aos Emirados Árabes Unidos, gerando tensões internas no governo.\\\\n*   **Minerais:** Acordo com a China pode ajudar os Estados Unidos a ter mais permissões para minerais terras raras da China.\\\\n\\\\n**Brasil:**\\\\n\\\\n*   **Economia:** Inflação anual acelerou para 5,53% em abril.\\\\n*   **Investimentos:** Empresas chinesas planejam investir cerca de R$ 27 bilhões no Brasil.\\\\n*   **Política:** Lula anunciará política para data centers após viagem. Haddad diz que reforma do IR será seu \"Legado como Ministro da Fazenda\".\\\\n*   **Petrobras:** A Petrobras divulga seus resultados do primeiro trimestre após o fechamento do mercado.\\\\n*   **Banco Central:** A ata do Copom poderá redefinir as expectativas para a taxa Selic terminal.\\\\n*   **Balanços:** BTG Pactual registrou lucro líquido ajustado de R$ 3,4 bilhões no primeiro trimestre. Banco Inter lucrou R$ 287 milhões no 1º trimestre.\\\\n*    **Setor Varejista:** A demanda por empréstimos empresariais no 1º trimestre foi a mais fraca para empresas grandes desde o 3º trimestre.\\\\n*   **Relação com os EUA e China:** Haddad diz que Lula não irá escolher entre EUA ou China e que os Estados Unidos deveriam olhar mais \"generosamente\" para a América Latina.\\\\n\\\\n**Empresas:**\\\\n\\\\n*   **Apple:** Considera aumentar os preços de seus iPhones, Apple planeja modo de gestão de bateria com IA nos dispositivos para o iOS 19.\\\\n*   **Tesla:** Agência de segurança dos Estados Unidos pede que Tesla responda sobre plano de serviço Robotaxi pago em Austin até junho.\\\\n*   **Intel:** Intel fecha provavelmente acordo com novo cliente para sua divisão de fundição.\\\\n*   **Eli Lilly:** Afirma superioridade de Zepbound em estudo contra Novo Nordisk.\\\\n*   **Novo Nordisk:** Reconhece importância de preços competitivos para medicamentos.\\\\n*   **Google:** Paga US$ 1,375 Bilhão para Encerrar Processo no Texas por Violação de Privacidade.\\\\n*   **OpenAI e Microsoft:** Renegociam Parceria Bilionária para Permitir IPO.\\\\n*   **Nissan:** Anuncia Corte de 20.000 Empregos em Plano de Reestruturação.\\\\n*   **Saudi Aramco:** Afirma que, apesar da recente volatilidade do mercado, os fundamentos do mercado de petróleo permanecem sólidos.\\\\n\\\\n**Outros:**\\\\n\\\\n*   **Emergentes:** Mesmo com o dólar forte, o yuan offshore (CNH) mostrou resistência após dados da China mostrarem inflação alinhada às expectativas. No México, enquete da Reuters indica que a maioria dos analistas espera um corte de 50 pontos-base nos juros na quinta-feira.\\' additional_kwargs={} response_metadata={\\'prompt_feedback\\': {\\'block_reason\\': 0, \\'safety_ratings\\': []}, \\'finish_reason\\': \\'STOP\\', \\'model_name\\': \\'gemini-2.0-flash\\', \\'safety_ratings\\': []} id=\\'run--69bcdbcb-8b2e-4920-a577-16d957804c8b-0\\' usage_metadata={\\'input_tokens\\': 17846, \\'output_tokens\\': 1603, \\'total_tokens\\': 19449, \\'input_token_details\\': {\\'cache_read\\': 0}}\\n'"
      ]
     },
     "execution_count": 25,
     "metadata": {},
     "output_type": "execute_result"
    }
   ],
   "source": [
    "data.get(\"resumo\")."
   ]
  },
  {
   "cell_type": "code",
   "execution_count": 19,
   "metadata": {},
   "outputs": [
    {
     "data": {
      "text/plain": [
       "'content=\\'## Resumo do Dia Anterior: Mercados, Política e Empresas\\\\n\\\\n**Destaque Principal: Acordo EUA-China**\\\\n\\\\n*   **Redução de Tarifas:** EUA e China concordaram em reduzir tarifas por 90 dias. EUA cortam de 145% para 30% sobre produtos chineses, enquanto a China reduz de 125% para 10% sobre produtos americanos (exceto tarifas relacionadas ao fentanil).\\\\n*   **Impacto no Mercado:** Bolsas globais reagiram positivamente, com alta nos índices de ações e queda no preço do ouro. Dólar se fortaleceu.\\\\n*   **Perspectivas:** Expectativa de aumento nos fluxos comerciais bilaterais, mas incertezas sobre a sustentabilidade do acordo a longo prazo. Próximas reuniões entre as partes devem buscar um acordo mais abrangente.\\\\n*   **Analistas:** Alívio nas tensões comerciais, mas ainda há incertezas para empresas e famílias.\\\\n\\\\n**Política e Geopolítica**\\\\n\\\\n*   **EUA x Irã:** Novas sanções dos EUA contra indivíduos e entidades iranianas ligadas à pesquisa de defesa.\\\\n*   **Ucrânia x Rússia:** Zelenskyy disposto a negociar com Putin na Turquia, após apelo de Trump. Rússia estaria ignorando proposta de cessar-fogo.\\\\n*   **Índia x Paquistão:** Cessar-fogo frágil, com acusações mútuas de violações. Trump promete aumentar o comércio com ambos os países.\\\\n*   **União Europeia:** Ministros de sete países europeus concordam em apoiar as forças armadas da Ucrânia.\\\\n*   **México x EUA:** Presidente do México discorda da suspensão das importações de gado bovino mexicano pelos EUA.\\\\n*   **Turquia:** Ministro das Relações Exteriores turco discute esforços de paz entre Rússia e Ucrânia com seu homólogo russo.\\\\n\\\\n**Política Interna dos EUA**\\\\n\\\\n*   **Medicamentos:** Trump promete corte de até 59% nos preços dos medicamentos, com ações de farmacêuticas em queda. Assinou ordem executiva para reduzir os preços dos medicamentos.\\\\n*   **Projeto de Lei Republicano:** Inclui isenção para pagamento de horas extras e isenta gorjetas recebidas por trabalhadores do imposto de renda, com algumas exceções.\\\\n*   **Fed:** Goolsbee (votante em 2025) afirma que o Fed pode levar tempo para tomar decisões políticas e que tarifas ainda teriam impulso estagflacionário. Kugler (votante) acredita que aumentos de preços relacionados às tarifas podem ter um impacto permanente.\\\\n\\\\n**Brasil**\\\\n\\\\n*   **Economia:** Ministro Haddad participa da Brazil Week em Nova York para atrair investimentos. Afirma que reforma do IR será seu \"legado\". Lula anunciará política para data centers após viagem.\\\\n*   **Política Monetária:** Ata do Copom poderá redefinir expectativas para a taxa Selic terminal.\\\\n*   **Investimentos:** Grandes empresas chinesas planejam investir cerca de R$ 27 bilhões no Brasil.\\\\n*   **Petróleo:** Exportações de petróleo venezuelano disfarçadas como petróleo brasileiro.\\\\n*   **Subsídios:** Governo lança programa de subsídio ao gás de cozinha para famílias de baixa renda.\\\\n\\\\n**Empresas**\\\\n\\\\n*   **Apple:** Planeja modo de gestão de bateria com IA no iOS 19. Considera aumento de preços de iPhones.\\\\n*   **Tesla:** Agência de segurança dos EUA pede informações sobre plano de serviço Robotaxi pago em Austin. Musk convidado para fórum de investimentos saudita-americano.\\\\n*   **Intel:** Próximo de fechar acordo com novo cliente para sua divisão de fundição.\\\\n*   **BTG Pactual:** Lucro de R$ 3,37 bilhões no 1º trimestre.\\\\n*   **Banco Inter:** Lucra R$ 287 milhões no 1º trimestre.\\\\n*   **Petrobras:** Divulga resultados do primeiro trimestre após o fechamento do mercado.\\\\n*   **Eli Lilly:** Afirma superioridade de Zepbound em estudo contra Novo Nordisk.\\\\n*   **Saudi Aramco:** Vê demanda por petróleo \"estável e crescente\" em 2025.\\\\n\\\\n**Setores Específicos**\\\\n\\\\n*   **Semicondutores:** Trump considera venda massiva de chips de IA aos Emirados. Acordo com a China pode ajudar os EUA a ter mais permissões para minerais terras raras da China.\\\\n*   **Petróleo:** Goldman Sachs prevê aumento de 410 mil barris/dia da OPEP+ em julho, seguido de pausa.\\\\n\\\\n**Indicadores e Dados**\\\\n\\\\n*   **Déficit Orçamentário dos EUA:** Chega a US$ 258 bilhões em abril, acima da expectativa.\\\\n*   **Estoques de Milho nos EUA:** Ficam menores que o esperado em maio.\\\\n\\\\n**Mercados**\\\\n\\\\n*   **Ações:** Wall Street opera em alta, impulsionada pelo acordo EUA-China.\\\\n*   **Câmbio:** Dólar sobe forte após acordo EUA-China.\\\\n*   **Ibovespa:** Futuro segue caindo na sessão trabalhando na região dos 138 mil pontos.\\\\n\\\\n**Bancos Centrais**\\\\n\\\\n*   **Banco do México:** Analistas esperam corte de 50 pontos-base na taxa de juros.\\\\n*   **BCE:** Escriva diz que devem ser humildes ao avaliar a situação atual. Nagel diz que não devem reagir exageradamente a anúncios individuais.\\\\n*   **BoE:** Taylor diz que taxa neutra é de 2,75-3% no Reino Unido. Membro Michael Taylor votou a favor de um corte de meio ponto percentual na taxa de juros na última reunião.\\' additional_kwargs={} response_metadata={\\'prompt_feedback\\': {\\'block_reason\\': 0, \\'safety_ratings\\': []}, \\'finish_reason\\': \\'STOP\\', \\'model_name\\': \\'gemini-2.0-flash\\', \\'safety_ratings\\': []} id=\\'run--8bbf44d0-95ab-4a14-b982-60c349d89d96-0\\' usage_metadata={\\'input_tokens\\': 16250, \\'output_tokens\\': 1254, \\'total_tokens\\': 17504, \\'input_token_details\\': {\\'cache_read\\': 0}}'"
      ]
     },
     "execution_count": 19,
     "metadata": {},
     "output_type": "execute_result"
    }
   ],
   "source": [
    "format_markdown(resumo)"
   ]
  },
  {
   "cell_type": "markdown",
   "metadata": {},
   "source": [
    "✅ Próximos Passos\n",
    "\t•\tAdicionar cache para evitar chamar a API desnecessariamente\n",
    "\t•\tExibir também as mensagens originais (com toggle)\n",
    "\t•\tPermitir escolha do canal (multi-canal)\n",
    "\t•\tAutenticar com senha simples (modo privado)"
   ]
  },
  {
   "cell_type": "markdown",
   "metadata": {},
   "source": [
    "# Código com mais detalhes"
   ]
  },
  {
   "cell_type": "code",
   "execution_count": 13,
   "metadata": {},
   "outputs": [
    {
     "name": "stdout",
     "output_type": "stream",
     "text": [
      "[]\n"
     ]
    },
    {
     "name": "stderr",
     "output_type": "stream",
     "text": [
      "/var/folders/68/xhdx3jc908q7wgf4wy53rvnw0000gn/T/ipykernel_59475/1000501570.py:21: RuntimeWarning: coroutine 'get_yesterday_messages' was never awaited\n",
      "  texts = await get_yesterday_messages()\n",
      "RuntimeWarning: Enable tracemalloc to get the object allocation traceback\n"
     ]
    }
   ],
   "source": [
    "async def get_yesterday_messages():\n",
    "    yesterday = datetime.now() - timedelta(days=1)\n",
    "    async with TelegramClient(SESSION_NAME, API_ID, API_HASH) as client:\n",
    "        channel_entity = await client.get_entity(CHANNEL_IDENTIFIER)\n",
    "        # messages = client.iter_messages(channel, offset_date=datetime.now(), reverse=True)\n",
    "        history = await client(GetHistoryRequest(\n",
    "            peer=channel_entity,\n",
    "            offset_id=0,\n",
    "            offset_date=datetime.now(),\n",
    "            #reverse = True,\n",
    "            add_offset=0,\n",
    "            limit=0, # Número de mensagens a serem recuperadas\n",
    "            max_id=0,\n",
    "            min_id=0,\n",
    "            hash=0\n",
    "        ))\n",
    "        \n",
    "        texts = [msg.message for msg in history.messages if msg.date.date() == yesterday.date() and msg.message]\n",
    "        return texts\n",
    "\n",
    "texts = await get_yesterday_messages()\n",
    "print(json.dumps(texts, ensure_ascii=False))"
   ]
  },
  {
   "cell_type": "code",
   "execution_count": 17,
   "metadata": {},
   "outputs": [
    {
     "name": "stdout",
     "output_type": "stream",
     "text": [
      "Cliente Telegram inicializado com o nome de sessão: '+5571987946284'\n"
     ]
    }
   ],
   "source": [
    "# Cria uma instância do cliente.\n",
    "# O arquivo SESSION_NAME.session será procurado/criado no mesmo diretório do notebook,\n",
    "# ou no caminho especificado em SESSION_NAME.\n",
    "client = TelegramClient(SESSION_NAME, API_ID, API_HASH)\n",
    "\n",
    "print(f\"Cliente Telegram inicializado com o nome de sessão: '{SESSION_NAME}'\")"
   ]
  },
  {
   "cell_type": "code",
   "execution_count": 18,
   "metadata": {},
   "outputs": [
    {
     "name": "stdout",
     "output_type": "stream",
     "text": [
      "Tentando conectar ao Telegram...\n",
      "Conectado e autorizado com sucesso!\n"
     ]
    },
    {
     "name": "stderr",
     "output_type": "stream",
     "text": [
      "Server closed the connection: [Errno 60] Operation timed out\n",
      "Graceful disconnection timed out, forcibly ignoring cleanup\n",
      "Attempt 1 at connecting failed: OSError: [Errno 51] Network is unreachable\n",
      "Attempt 2 at connecting failed: OSError: [Errno 51] Network is unreachable\n",
      "Attempt 3 at connecting failed: OSError: [Errno 51] Network is unreachable\n",
      "Attempt 4 at connecting failed: OSError: [Errno 51] Network is unreachable\n",
      "Attempt 5 at connecting failed: OSError: [Errno 51] Network is unreachable\n",
      "Attempt 6 at connecting failed: OSError: [Errno 51] Network is unreachable\n",
      "Attempt 1 at connecting failed: OSError: [Errno 51] Network is unreachable\n",
      "Attempt 2 at connecting failed: OSError: [Errno 51] Network is unreachable\n",
      "Attempt 3 at connecting failed: OSError: [Errno 51] Network is unreachable\n",
      "Attempt 4 at connecting failed: OSError: [Errno 51] Network is unreachable\n",
      "Attempt 5 at connecting failed: OSError: [Errno 51] Network is unreachable\n",
      "Attempt 6 at connecting failed: OSError: [Errno 51] Network is unreachable\n",
      "Attempt 1 at connecting failed: OSError: [Errno 51] Network is unreachable\n",
      "Attempt 2 at connecting failed: OSError: [Errno 51] Network is unreachable\n",
      "Attempt 3 at connecting failed: OSError: [Errno 51] Network is unreachable\n",
      "Attempt 4 at connecting failed: OSError: [Errno 51] Network is unreachable\n",
      "Attempt 5 at connecting failed: OSError: [Errno 51] Network is unreachable\n",
      "Attempt 6 at connecting failed: OSError: [Errno 51] Network is unreachable\n",
      "Attempt 1 at connecting failed: OSError: [Errno 51] Network is unreachable\n",
      "Attempt 2 at connecting failed: OSError: [Errno 51] Network is unreachable\n",
      "Attempt 3 at connecting failed: OSError: [Errno 51] Network is unreachable\n",
      "Attempt 4 at connecting failed: OSError: [Errno 51] Network is unreachable\n",
      "Attempt 5 at connecting failed: OSError: [Errno 51] Network is unreachable\n",
      "Attempt 6 at connecting failed: OSError: [Errno 51] Network is unreachable\n",
      "Attempt 1 at connecting failed: OSError: [Errno 51] Network is unreachable\n",
      "Attempt 2 at connecting failed: OSError: [Errno 51] Network is unreachable\n",
      "Attempt 3 at connecting failed: OSError: [Errno 51] Network is unreachable\n",
      "Attempt 4 at connecting failed: OSError: [Errno 51] Network is unreachable\n",
      "Attempt 5 at connecting failed: OSError: [Errno 51] Network is unreachable\n",
      "Attempt 6 at connecting failed: OSError: [Errno 51] Network is unreachable\n",
      "Automatic reconnection failed 5 time(s)\n",
      "Future exception was never retrieved\n",
      "future: <Future finished exception=ConnectionError('Connection to Telegram failed 5 time(s)')>\n",
      "ConnectionError: Connection to Telegram failed 5 time(s)\n"
     ]
    }
   ],
   "source": [
    "try:\n",
    "    if not client.is_connected():\n",
    "        print(\"Tentando conectar ao Telegram...\")\n",
    "        await client.connect()\n",
    "    else:\n",
    "        print(\"Cliente já está conectado.\")\n",
    "\n",
    "    if not await client.is_user_authorized():\n",
    "        print(f\"Autenticação necessária para o número: {PHONE_NUMBER}\")\n",
    "        await client.send_code_request(PHONE_NUMBER)\n",
    "        try:\n",
    "            code = input('Digite o código de login recebido: ')\n",
    "            await client.sign_in(PHONE_NUMBER, code)\n",
    "        except SessionPasswordNeededError:\n",
    "            password = input('Sua senha da autenticação de dois fatores (nuvem) é necessária: ')\n",
    "            await client.sign_in(password=password)\n",
    "        except Exception as e:\n",
    "            print(f\"Erro durante o sign_in: {e}\")\n",
    "            # Você pode querer parar aqui ou tentar desconectar\n",
    "            raise # Re-levanta a exceção para parar a execução da célula se o login falhar\n",
    "    \n",
    "    print(\"Conectado e autorizado com sucesso!\")\n",
    "\n",
    "except AuthKeyUnregisteredError:\n",
    "    print(\"ERRO CRÍTICO: A chave de autorização não está registrada (sessão inválida).\")\n",
    "    print(f\"Por favor, delete o arquivo '{SESSION_NAME}.session' e rode esta célula novamente para criar uma nova sessão.\")\n",
    "except Exception as e:\n",
    "    print(f\"Ocorreu um erro ao conectar/autenticar: {e}\")\n",
    "    import traceback\n",
    "    traceback.print_exc()"
   ]
  },
  {
   "cell_type": "code",
   "execution_count": 19,
   "metadata": {},
   "outputs": [],
   "source": [
    "\n",
    "async def main():\n",
    "    # Conectando ao Telegram\n",
    "    await client.connect()\n",
    "\n",
    "    # Autenticando, se necessário (código será enviado para o seu Telegram na primeira vez)\n",
    "    if not await client.is_user_authorized():\n",
    "        await client.send_code_request(phone_number)\n",
    "        await client.sign_in(phone_number, input('Digite o código recebido: '))\n",
    "\n",
    "    try:\n",
    "        # Obtendo a entidade do canal\n",
    "        channel_entity = await client.get_entity(channel_identifier)\n",
    "\n",
    "        # Exemplo 1: Obter informações completas do canal\n",
    "        full_channel_info = await client(GetFullChannelRequest(channel=channel_entity))\n",
    "        print(f\"Nome do Canal: {full_channel_info.chats[0].title}\")\n",
    "        print(f\"Sobre: {full_channel_info.full_chat.about}\")\n",
    "        print(f\"Participantes: {full_channel_info.full_chat.participants_count}\")\n",
    "        print(\"---\")\n",
    "\n",
    "        # Exemplo 2: Obter as últimas mensagens do canal\n",
    "        print(\"Últimas mensagens:\")\n",
    "        # messages = await client.get_messages(channel_entity, limit=5) # Forma mais simples\n",
    "        history = await client(GetHistoryRequest(\n",
    "            peer=channel_entity,\n",
    "            offset_id=0,\n",
    "            offset_date=None,\n",
    "            add_offset=0,\n",
    "            limit=5, # Número de mensagens a serem recuperadas\n",
    "            max_id=0,\n",
    "            min_id=0,\n",
    "            hash=0\n",
    "        ))\n",
    "\n",
    "        for message in history.messages:\n",
    "            print(f\"ID: {message.id} | Data: {message.date} | Remetente ID: {message.sender_id}\")\n",
    "            if message.message: # Verifica se há texto na mensagem\n",
    "                print(f\"  Texto: {message.message[:50]}...\") # Mostra os primeiros 50 caracteres\n",
    "            if message.media:\n",
    "                print(f\"  Mídia: {type(message.media).__name__}\")\n",
    "            print(\"---\")\n",
    "\n",
    "    except Exception as e:\n",
    "        print(f\"Ocorreu um erro: {e}\")\n",
    "    finally:\n",
    "        # Desconectando o cliente\n",
    "        await client.disconnect()"
   ]
  },
  {
   "cell_type": "code",
   "execution_count": 13,
   "metadata": {},
   "outputs": [
    {
     "name": "stdout",
     "output_type": "stream",
     "text": [
      "\n",
      "Tentando acessar o canal: @activtradespt\n",
      "Canal encontrado: ActivTrades Português\n",
      "ID do Canal: 1257215455\n",
      "Tipo: Channel\n"
     ]
    }
   ],
   "source": [
    "channel_entity = None # Definir fora do try para que possa ser usado depois, se bem-sucedido\n",
    "if client.is_connected() and await client.is_user_authorized():\n",
    "    print(f\"\\nTentando acessar o canal: {CHANNEL_IDENTIFIER}\")\n",
    "    try:\n",
    "        channel_entity = await client.get_entity(CHANNEL_IDENTIFIER)\n",
    "        print(f\"Canal encontrado: {getattr(channel_entity, 'title', 'Título não disponível')}\")\n",
    "        print(f\"ID do Canal: {channel_entity.id}\")\n",
    "        print(f\"Tipo: {type(channel_entity).__name__}\")\n",
    "    except ValueError:\n",
    "        print(f\"Erro: Canal '{CHANNEL_IDENTIFIER}' não encontrado ou identificador inválido. Verifique o nome/ID.\")\n",
    "    except UserDeactivatedBanError:\n",
    "        print(\"Erro: A conta associada a esta sessão foi banida ou desativada.\")\n",
    "    except Exception as e:\n",
    "        print(f\"Erro ao tentar obter a entidade do canal: {e}\")\n",
    "else:\n",
    "    print(\"Cliente não está conectado ou autorizado. Execute a célula de conexão/autenticação primeiro.\")"
   ]
  },
  {
   "cell_type": "code",
   "execution_count": 20,
   "metadata": {},
   "outputs": [
    {
     "name": "stdout",
     "output_type": "stream",
     "text": [
      "\n",
      "Buscando as últimas 5 mensagens do canal 'ActivTrades Português'...\n",
      "Encontradas 5 mensagens.\n"
     ]
    }
   ],
   "source": [
    "messages = [] # Definir fora do try para que possa ser usado depois\n",
    "if channel_entity: # Verifica se channel_entity foi obtido com sucesso na célula anterior\n",
    "    print(f\"\\nBuscando as últimas 5 mensagens do canal '{getattr(channel_entity, 'title', CHANNEL_IDENTIFIER)}'...\")\n",
    "    try:\n",
    "        history = await client(GetHistoryRequest(\n",
    "            peer=channel_entity,\n",
    "            offset_id=0,\n",
    "            offset_date=None,\n",
    "            add_offset=0,\n",
    "            limit=5, # Busque mais se precisar\n",
    "            max_id=0,\n",
    "            min_id=0,\n",
    "            hash=0\n",
    "        ))\n",
    "\n",
    "        if not history.messages:\n",
    "            print(\"Nenhuma mensagem encontrada no canal ou não foi possível acessá-las.\")\n",
    "        else:\n",
    "            messages = history.messages # Armazena as mensagens para a próxima célula\n",
    "            print(f\"Encontradas {len(messages)} mensagens.\")\n",
    "            \n",
    "    except Exception as e:\n",
    "        print(f\"Erro ao buscar mensagens: {e}\")\n",
    "        import traceback\n",
    "        traceback.print_exc()\n",
    "else:\n",
    "    print(\"Entidade do canal não encontrada. Execute a célula anterior para obter as informações do canal.\")"
   ]
  },
  {
   "cell_type": "code",
   "execution_count": 26,
   "metadata": {},
   "outputs": [
    {
     "data": {
      "text/plain": [
       "[(<telethon.tl.types.MessageEntityBold at 0x10b1f85a0>,\n",
       "  'Tensão no Oriente Médio no Radar'),\n",
       " (<telethon.tl.types.MessageEntityBold at 0x10b1f86b0>,\n",
       "  'Tensão entre Índia e Paquistão adia acordo comercial com a Índia, segundo executivos ligados à Casa Branca; Reino Unido assume prioridade'),\n",
       " (<telethon.tl.types.MessageEntityItalic at 0x10b1fcb00>,\n",
       "  'Via Terminal Macro Trader / ActivTrades\\n\\n...\\nDisclaimer ActivTrades Brasil: Os derivativos financeiros são instrumentos complexos e apresentam um alto risco de perder dinheiro rapidamente devido à alavancagem. 83% das contas de investidores de retalhos perdem dinheiro quando negociam derivativos')]"
      ]
     },
     "execution_count": 26,
     "metadata": {},
     "output_type": "execute_result"
    }
   ],
   "source": [
    "messages[0].get_entities_text()"
   ]
  },
  {
   "cell_type": "code",
   "execution_count": 27,
   "metadata": {},
   "outputs": [
    {
     "data": {
      "text/plain": [
       "'Tensão no Oriente Médio no Radar\\n    \\nTensão entre Índia e Paquistão adia acordo comercial com a Índia, segundo executivos ligados à Casa Branca; Reino Unido assume prioridade\\n  \\n  Via Terminal Macro Trader / ActivTrades\\n\\n...\\nDisclaimer ActivTrades Brasil: Os derivativos financeiros são instrumentos complexos e apresentam um alto risco de perder dinheiro rapidamente devido à alavancagem. 83% das contas de investidores de retalhos perdem dinheiro quando negociam derivativos'"
      ]
     },
     "execution_count": 27,
     "metadata": {},
     "output_type": "execute_result"
    }
   ],
   "source": [
    "messages[0].message"
   ]
  },
  {
   "cell_type": "code",
   "execution_count": 29,
   "metadata": {},
   "outputs": [
    {
     "name": "stdout",
     "output_type": "stream",
     "text": [
      "\n",
      "--- Exibindo Conteúdo Detalhado de 5 Mensagens ---\n",
      "\n",
      "===== MENSAGEM 1 =====\n",
      "ID da Mensagem: 110278\n",
      "Data: 2025-05-08 13:25:11 UTC\n",
      "ID do Remetente: -1001257215455\n",
      "Texto da Mensagem:\n",
      "---\n",
      "Tensão no Oriente Médio no Radar\n",
      "    \n",
      "Tensão entre Índia e Paquistão adia acordo comercial com a Índia, segundo executivos ligados à Casa Branca; Reino Unido assume prioridade\n",
      "  \n",
      "  Via Terminal Macro Trader / ActivTrades\n",
      "\n",
      "...\n",
      "Disclaimer ActivTrades Brasil: Os derivativos financeiros são instrumentos complexos e apresentam um alto risco de perder dinheiro rapidamente devido à alavancagem. 83% das contas de investidores de retalhos perdem dinheiro quando negociam derivativos\n",
      "---\n",
      "Mídia: Não\n",
      "Visualizações: 185\n",
      "Entidades de Formatação: Sim (MessageEntityItalic, MessageEntityBold)\n",
      "\n",
      "===== MENSAGEM 2 =====\n",
      "ID da Mensagem: 110277\n",
      "Data: 2025-05-08 13:24:27 UTC\n",
      "ID do Remetente: -1001257215455\n",
      "Texto da Mensagem:\n",
      "---\n",
      "Reino Unido x EUA no Radar\n",
      "    \n",
      "Primeiro-ministro do Reino Unido, Keir Starmer, participará de anúncio na Casa Branca de forma remota, segundo CNBC\n",
      "  \n",
      "  Via Terminal Macro Trader / ActivTrades\n",
      "\n",
      "...\n",
      "Disclaimer ActivTrades Brasil: Os derivativos financeiros são instrumentos complexos e apresentam um alto risco de perder dinheiro rapidamente devido à alavancagem. 83% das contas de investidores de retalhos perdem dinheiro quando negociam derivativos\n",
      "---\n",
      "Mídia: Não\n",
      "Visualizações: 186\n",
      "Entidades de Formatação: Sim (MessageEntityItalic, MessageEntityBold)\n",
      "\n",
      "===== MENSAGEM 3 =====\n",
      "ID da Mensagem: 110276\n",
      "Data: 2025-05-08 13:24:07 UTC\n",
      "ID do Remetente: -1001257215455\n",
      "Texto da Mensagem:\n",
      "---\n",
      "🟡 Brasil no Radar\n",
      "    \n",
      "Bradesco +13,20% segue em forte alta no Brasil após divulgar resultados e projetar próximo trimestre mais forte\n",
      "  \n",
      "  Via Terminal Macro Trader / ActivTrades\n",
      "\n",
      "...\n",
      "Disclaimer ActivTrades Brasil: Os derivativos financeiros são instrumentos complexos e apresentam um alto risco de perder dinheiro rapidamente devido à alavancagem. 83% das contas de investidores de retalhos perdem dinheiro quando negociam derivativos\n",
      "---\n",
      "Mídia: Não\n",
      "Visualizações: 186\n",
      "Entidades de Formatação: Sim (MessageEntityItalic, MessageEntityBold)\n",
      "\n",
      "===== MENSAGEM 4 =====\n",
      "ID da Mensagem: 110275\n",
      "Data: 2025-05-08 13:22:31 UTC\n",
      "ID do Remetente: -1001257215455\n",
      "Texto da Mensagem:\n",
      "---\n",
      "🟡  Brasil no Radar\n",
      "    \n",
      "Abertura dos mercados à vista no Brasil: Principais Ações Em Alta Após BCB e Resultados\n",
      "  \n",
      "🟢 Vale (VALE3): 52,91 (+0,02%)\n",
      "🟢 Petrobras (PETR4): 30,70 (+1,35%)\n",
      "🟢 Itaú Unibanco (ITUB4): 35,74 (+2,00%)\n",
      "🟢 Banco do Brasil (BBAS3): 29,59 (+0,96%)\n",
      "🟢 Eletrobras (ELET3): 43,35 (+1,10%)\n",
      "🟢 Weg (WEGE3): 42,27 (+0,76%)\n",
      "🟢 Sabesp (SBSP3): 116,47 (+0,80%)\n",
      "🟢 Bradesco (BBDC4): 14,91 (+14,34%)\n",
      "🟢 Ambev (ABEV3): 14,97 (+4,91%)\n",
      "🟢 B3 (B3SA3): 13,59 (+3,35%)\n",
      "🟢 Itaúsa (ITSA4): 10,72 (+1,71%)\n",
      "🟢 Embraer (EMBR3): 67,97 (+0,92%)\n",
      "  \n",
      "  Via Terminal Macro Trader / ActivTrades\n",
      "\n",
      "...\n",
      "Disclaimer ActivTrades Brasil: Os derivativos financeiros são instrumentos complexos e apresentam um alto risco de perder dinheiro rapidamente devido à alavancagem. 83% das contas de investidores de retalhos perdem dinheiro quando negociam derivativos\n",
      "---\n",
      "Mídia: Não\n",
      "Visualizações: 186\n",
      "Entidades de Formatação: Sim (MessageEntityItalic, MessageEntityBold)\n",
      "\n",
      "===== MENSAGEM 5 =====\n",
      "ID da Mensagem: 110274\n",
      "Data: 2025-05-08 13:17:30 UTC\n",
      "ID do Remetente: -1001257215455\n",
      "Texto da Mensagem:\n",
      "---\n",
      "Tensão no Oriente Médio no Radar\n",
      "    \n",
      "Ministros das Relações Exteriores da Noruega e da Islândia: plano de evacuar palestinos de Gaza seria deslocamento forçado e ilegal\n",
      "  \n",
      "▶️ Os ministros das Relações Exteriores da Noruega e da Islândia afirmaram que qualquer plano para evacuar palestinos da Faixa de Gaza seria considerado um ato de deslocamento forçado , o que violaria os princípios do direito internacional\n",
      "  \n",
      "  Via Terminal Macro Trader / ActivTrades\n",
      "\n",
      "...\n",
      "Disclaimer ActivTrades Brasil: Os derivativos financeiros são instrumentos complexos e apresentam um alto risco de perder dinheiro rapidamente devido à alavancagem. 83% das contas de investidores de retalhos perdem dinheiro quando negociam derivativos\n",
      "---\n",
      "Mídia: Não\n",
      "Visualizações: 249\n",
      "Entidades de Formatação: Sim (MessageEntityItalic, MessageEntityBold)\n",
      "\n",
      "===== FIM DA LISTA DE MENSAGENS =====\n"
     ]
    }
   ],
   "source": [
    "# Célula 6: Exibir o Conteúdo Detalhado das Mensagens (Modificada)\n",
    "\n",
    "if messages: # Verifica se a lista de mensagens não está vazia\n",
    "    print(f\"\\n--- Exibindo Conteúdo Detalhado de {len(messages)} Mensagens ---\")\n",
    "    for i, message in enumerate(messages):\n",
    "        print(f\"\\n===== MENSAGEM {i+1} =====\")\n",
    "        print(f\"ID da Mensagem: {message.id}\")\n",
    "        print(f\"Data: {message.date.strftime('%Y-%m-%d %H:%M:%S %Z')}\") # %Z para fuso horário, se disponível\n",
    "        \n",
    "        # Informações do Remetente\n",
    "        sender_info = f\"ID do Remetente: {message.sender_id}\"\n",
    "        if message.sender:\n",
    "            if hasattr(message.sender, 'username') and message.sender.username:\n",
    "                sender_info += f\", Username: @{message.sender.username}\"\n",
    "            elif hasattr(message.sender, 'title'): # Para canais\n",
    "                sender_info += f\", Título do Canal: {message.sender.title}\"\n",
    "            elif hasattr(message.sender, 'first_name'): # Para usuários\n",
    "                name_parts = [message.sender.first_name]\n",
    "                if hasattr(message.sender, 'last_name') and message.sender.last_name:\n",
    "                    name_parts.append(message.sender.last_name)\n",
    "                sender_info += f\", Nome: {' '.join(name_parts)}\"\n",
    "        print(sender_info)\n",
    "\n",
    "        # Texto da Mensagem\n",
    "        if message.message: # message.text é o texto simples, message.message pode incluir formatação\n",
    "            print(f\"Texto da Mensagem:\\n---\\n{message.message}\\n---\")\n",
    "        else:\n",
    "            print(\"Texto da Mensagem: (Nenhum texto)\")\n",
    "\n",
    "        # Mídia\n",
    "        if message.media:\n",
    "            media_type = type(message.media).__name__\n",
    "            print(f\"Mídia: Sim (Tipo: {media_type})\")\n",
    "            \n",
    "            if media_type == 'MessageMediaPhoto':\n",
    "                # Para fotos, você pode tentar acessar message.photo.id, message.photo.sizes, etc.\n",
    "                print(f\"  Detalhes da Foto: ID={message.photo.id}, Data={message.photo.date.strftime('%Y-%m-%d')}\")\n",
    "            elif media_type == 'MessageMediaDocument':\n",
    "                doc_attrs = []\n",
    "                if message.document.attributes:\n",
    "                    for attr in message.document.attributes:\n",
    "                        if type(attr).__name__ == 'DocumentAttributeFilename':\n",
    "                            doc_attrs.append(f\"Nome do Arquivo: {attr.file_name}\")\n",
    "                        if type(attr).__name__ == 'DocumentAttributeAudio':\n",
    "                            doc_attrs.append(f\"Duração: {attr.duration}s\")\n",
    "                            if attr.title: doc_attrs.append(f\"Título: {attr.title}\")\n",
    "                            if attr.performer: doc_attrs.append(f\"Artista: {attr.performer}\")\n",
    "                print(f\"  Documento: MIME Type='{message.document.mime_type}', Tamanho={message.document.size} bytes\")\n",
    "                if doc_attrs: print(f\"    Atributos: {'; '.join(doc_attrs)}\")\n",
    "            elif media_type == 'MessageMediaWebPage':\n",
    "                if hasattr(message.media.webpage, 'url'):\n",
    "                    print(f\"  Preview da Webpage: URL='{message.media.webpage.url}'\")\n",
    "                if hasattr(message.media.webpage, 'site_name'):\n",
    "                    print(f\"    Site: {message.media.webpage.site_name}\")\n",
    "                if hasattr(message.media.webpage, 'title'):\n",
    "                     print(f\"    Título: {message.media.webpage.title}\")\n",
    "            # Adicione mais `elif` para outros tipos de mídia como MessageMediaPoll, MessageMediaGeo, etc.\n",
    "        else:\n",
    "            print(\"Mídia: Não\")\n",
    "\n",
    "        # Mensagem de Resposta\n",
    "        if message.reply_to_msg_id:\n",
    "            print(f\"Em Resposta a: ID da Mensagem {message.reply_to_msg_id}\")\n",
    "            # Para buscar a mensagem original da resposta (requer outra chamada à API):\n",
    "            replied_to_message = await client.get_messages(channel_entity, ids=message.reply_to_msg_id)\n",
    "            if replied_to_message:\n",
    "                print(f\"  Texto da mensagem respondida: {replied_to_message.text[:50]}...\")\n",
    "\n",
    "        # Mensagem Encaminhada\n",
    "        if message.fwd_from:\n",
    "            fwd_info = \"Mensagem Encaminhada de: \"\n",
    "            if message.fwd_from.from_id:\n",
    "                # Tenta obter a entidade original do encaminhamento\n",
    "                try:\n",
    "                    fwd_entity_peer = message.fwd_from.from_id\n",
    "                    # Note: message.fwd_from.from_id é um Peer (PeerUser, PeerChat, PeerChannel)\n",
    "                    # Para obter o nome/username, você precisaria de client.get_entity(fwd_entity_peer)\n",
    "                    # o que é uma chamada de API adicional. Por simplicidade, mostraremos o ID.\n",
    "                    fwd_info += f\"ID Peer: {fwd_entity_peer}\"\n",
    "                except Exception as e:\n",
    "                    fwd_info += \"(Não foi possível obter detalhes do remetente original)\"\n",
    "\n",
    "            elif message.fwd_from.from_name: # Para usuários que ocultaram suas contas ao encaminhar\n",
    "                 fwd_info += f\"Nome: {message.fwd_from.from_name}\"\n",
    "            if message.fwd_from.date:\n",
    "                fwd_info += f\" (Data Original: {message.fwd_from.date.strftime('%Y-%m-%d %H:%M:%S')})\"\n",
    "            print(fwd_info)\n",
    "            if message.fwd_from.saved_from_peer: # Se foi encaminhada de 'Mensagens Salvas' ou outro chat\n",
    "                print(f\"  Encaminhada via Peer ID: {message.fwd_from.saved_from_peer}, Msg ID: {message.fwd_from.saved_from_msg_id}\")\n",
    "\n",
    "\n",
    "        # Visualizações\n",
    "        if message.views is not None: # Checa se não é None, pois pode não estar presente\n",
    "            print(f\"Visualizações: {message.views}\")\n",
    "\n",
    "        # Reações\n",
    "        if message.reactions:\n",
    "            reaction_summary = []\n",
    "            for reaction_count in message.reactions.results:\n",
    "                # reaction_count.reaction é um objeto ReactionEmoji ou ReactionCustomEmoji\n",
    "                # Vamos tentar pegar o emoticon se for um emoji padrão\n",
    "                emoticon = \"\"\n",
    "                if hasattr(reaction_count.reaction, 'emoticon'):\n",
    "                    emoticon = reaction_count.reaction.emoticon\n",
    "                elif hasattr(reaction_count.reaction, 'document_id'): # Para reações customizadas\n",
    "                    emoticon = f\"(Custom ID: {reaction_count.reaction.document_id})\"\n",
    "                \n",
    "                reaction_summary.append(f\"{emoticon}: {reaction_count.count}\")\n",
    "            if reaction_summary:\n",
    "                print(f\"Reações: {', '.join(reaction_summary)}\")\n",
    "        \n",
    "        # Entidades (formatação, links, menções)\n",
    "        if message.entities:\n",
    "            entity_types = [type(entity).__name__ for entity in message.entities]\n",
    "            print(f\"Entidades de Formatação: Sim ({', '.join(list(set(entity_types)))})\")\n",
    "            # Para ver detalhes de cada entidade:\n",
    "            # for entity in message.entities:\n",
    "            #     print(f\"  - {type(entity).__name__}: Offset={entity.offset}, Length={entity.length}\")\n",
    "            #     if hasattr(entity, 'url'): print(f\"    URL: {entity.url}\")\n",
    "            #     if hasattr(entity, 'user_id'): print(f\"    User ID: {entity.user_id}\")\n",
    "\n",
    "\n",
    "        # ID de Grupo (para álbuns de mídia)\n",
    "        if message.grouped_id:\n",
    "            print(f\"ID do Grupo (Álbum): {message.grouped_id}\")\n",
    "\n",
    "        # Para explorar TODOS os campos da mensagem, descomente a linha abaixo:\n",
    "        # print(\"\\n--- Detalhes Completos (message.to_dict()) ---\")\n",
    "        # print(message.to_dict())\n",
    "        # print(\"--- --- ---\")\n",
    "\n",
    "    print(\"\\n===== FIM DA LISTA DE MENSAGENS =====\")\n",
    "else:\n",
    "    print(\"Nenhuma mensagem para exibir. Execute a célula de busca de mensagens primeiro.\")"
   ]
  },
  {
   "cell_type": "code",
   "execution_count": 16,
   "metadata": {},
   "outputs": [
    {
     "name": "stdout",
     "output_type": "stream",
     "text": [
      "\n",
      "Desconectando o cliente...\n",
      "Cliente desconectado com sucesso.\n"
     ]
    }
   ],
   "source": [
    "if client.is_connected():\n",
    "    print(\"\\nDesconectando o cliente...\")\n",
    "    try:\n",
    "        await client.disconnect()\n",
    "        print(\"Cliente desconectado com sucesso.\")\n",
    "    except Exception as e:\n",
    "        print(f\"Erro ao desconectar: {e}\")\n",
    "else:\n",
    "    print(\"Cliente já está desconectado ou não foi conectado.\")"
   ]
  },
  {
   "cell_type": "code",
   "execution_count": null,
   "metadata": {},
   "outputs": [],
   "source": []
  }
 ],
 "metadata": {
  "kernelspec": {
   "display_name": ".venv",
   "language": "python",
   "name": "python3"
  },
  "language_info": {
   "codemirror_mode": {
    "name": "ipython",
    "version": 3
   },
   "file_extension": ".py",
   "mimetype": "text/x-python",
   "name": "python",
   "nbconvert_exporter": "python",
   "pygments_lexer": "ipython3",
   "version": "3.13.3"
  }
 },
 "nbformat": 4,
 "nbformat_minor": 2
}
